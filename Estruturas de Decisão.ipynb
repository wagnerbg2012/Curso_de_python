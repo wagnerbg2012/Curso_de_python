{
 "cells": [
  {
   "cell_type": "markdown",
   "id": "8535c274",
   "metadata": {},
   "source": [
    "# Estruturas de decisão\n",
    "\n",
    "<span style=\"color: red;\"><b>Todos os exercícios são feitos partindo-se do pressuposto de que todas as entradas são dadas de forma correta. Casos limite não mencionados no enunciado não são abordados porque não fazem parte do exercício.</b></span>"
   ]
  },
  {
   "cell_type": "markdown",
   "id": "9c3d817e",
   "metadata": {},
   "source": [
    "#### 1. Faça um Programa que peça dois números e imprima o maior deles."
   ]
  },
  {
   "cell_type": "code",
   "execution_count": null,
   "id": "ae45c028",
   "metadata": {},
   "outputs": [],
   "source": [
    "numero1 = float(input('Informe o primeiro número: '))\n",
    "numero2 = float(input('Informe o segundo número: '))\n",
    "\n",
    "if numero1 > numero2:\n",
    "    print('O maior número é', numero1)\n",
    "elif numero2 > numero1:\n",
    "    print('O maior número é', numero2)\n",
    "else:\n",
    "    print('Os números são iguais')"
   ]
  },
  {
   "cell_type": "markdown",
   "id": "ff510803",
   "metadata": {},
   "source": [
    "#### 2. Faça um Programa que peça um valor e mostre na tela se o valor é positivo ou negativo."
   ]
  },
  {
   "cell_type": "code",
   "execution_count": null,
   "id": "8952f58f",
   "metadata": {},
   "outputs": [],
   "source": [
    "numero = float(input('Informe um número: '))\n",
    "\n",
    "if numero > 0:\n",
    "    print('O número é positivo')\n",
    "elif numero < 0:\n",
    "    print('O número é negativo')\n",
    "else:\n",
    "    print('O número é zero')"
   ]
  },
  {
   "cell_type": "markdown",
   "id": "f340bc68",
   "metadata": {},
   "source": [
    "#### 3. Faça um Programa que verifique se uma letra digitada é \"F\" ou \"M\". Conforme a letra escrever: F - Feminino, M - Masculino, Sexo Inválido."
   ]
  },
  {
   "cell_type": "code",
   "execution_count": null,
   "id": "e79a395f",
   "metadata": {},
   "outputs": [],
   "source": [
    "genero = input('Informe o gênero, M para Masculino, F para feminino: ')\n",
    "\n",
    "if genero == 'M':\n",
    "    print('O gênero é masculino')\n",
    "elif genero == 'F':\n",
    "    print('O gênero é feminino')\n",
    "else:\n",
    "    print('Gênero inválido')"
   ]
  },
  {
   "cell_type": "markdown",
   "id": "c122c0cf",
   "metadata": {},
   "source": [
    "#### 4. Faça um Programa que verifique se uma letra digitada é vogal ou consoante."
   ]
  },
  {
   "cell_type": "code",
   "execution_count": null,
   "id": "59bed184",
   "metadata": {},
   "outputs": [],
   "source": [
    "letra = input('Informe uma letra: ')\n",
    "\n",
    "vogais = 'AEIOUaeiou'\n",
    "if letra in vogais:\n",
    "    print('A letra é uma vogal')\n",
    "else:\n",
    "    print('A letra é uma consoante')"
   ]
  },
  {
   "cell_type": "markdown",
   "id": "487ee073",
   "metadata": {},
   "source": [
    "#### 5. Faça um programa para a leitura de duas notas parciais de um aluno. O programa deve calcular a média alcançada por aluno e apresentar:\n",
    "\n",
    "##### A mensagem \"Aprovado\", se a média alcançada for maior ou igual a sete;\n",
    "##### A mensagem \"Reprovado\", se a média for menor do que sete;\n",
    "##### A mensagem \"Aprovado com Distinção\", se a média for igual a dez."
   ]
  },
  {
   "cell_type": "code",
   "execution_count": null,
   "id": "7f5c7096",
   "metadata": {},
   "outputs": [],
   "source": [
    "nota1 = float(input('Informe a primeira nota: '))\n",
    "nota2 = float(input('Informe a primeira nota: '))\n",
    "\n",
    "media = (nota1 + nota2)/2\n",
    "\n",
    "if media == 10:\n",
    "    print('Aprovado com Distinção')\n",
    "elif media > 7:\n",
    "    print('Aprovado')\n",
    "else:\n",
    "    print('Reprovado')"
   ]
  },
  {
   "cell_type": "markdown",
   "id": "6dd3f171",
   "metadata": {},
   "source": [
    "#### 6. Faça um Programa que leia três números e mostre o maior deles."
   ]
  },
  {
   "cell_type": "code",
   "execution_count": null,
   "id": "51b591e5",
   "metadata": {},
   "outputs": [],
   "source": [
    "numero1 = float(input('Informe o primeiro número: '))\n",
    "numero2 = float(input('Informe o segundo número: '))\n",
    "numero3 = float(input('Informe o terceiro número: '))\n",
    "\n",
    "if numero1 > numero2 and numero1 > numero3:\n",
    "    print('O maior número é', numero1)\n",
    "elif numero2 > numero1 and numero2 > numero3:\n",
    "    print('O maior número é', numero2)\n",
    "elif numero3 > numero1 and numero3 > numero2:\n",
    "    print('O maior número é', numero3)"
   ]
  },
  {
   "cell_type": "markdown",
   "id": "ce09ed1c",
   "metadata": {},
   "source": [
    "#### 7. Faça um Programa que leia três números e mostre o maior e o menor deles."
   ]
  },
  {
   "cell_type": "code",
   "execution_count": null,
   "id": "249f1eb8",
   "metadata": {},
   "outputs": [],
   "source": [
    "numero1 = float(input('Informe o primeiro número: '))\n",
    "numero2 = float(input('Informe o segundo número: '))\n",
    "numero3 = float(input('Informe o terceiro número: '))\n",
    "\n",
    "if numero1 > numero2 and numero1 > numero3:\n",
    "    print('O maior número é', numero1)\n",
    "elif numero2 > numero1 and numero2 > numero3:\n",
    "    print('O maior número é', numero2)\n",
    "elif numero3 > numero1 and numero3 > numero2:\n",
    "    print('O maior número é', numero3)\n",
    "    \n",
    "if numero1 < numero2 and numero1 < numero3:\n",
    "    print('O menor número é', numero1)\n",
    "elif numero2 < numero1 and numero2 < numero3:\n",
    "    print('O menor número é', numero2)\n",
    "elif numero3 < numero1 and numero3 < numero2:\n",
    "    print('O menor número é', numero3)"
   ]
  },
  {
   "cell_type": "markdown",
   "id": "7453d43a",
   "metadata": {},
   "source": [
    "#### 8. Faça um programa que pergunte o preço de três produtos e informe qual produto você deve comprar, sabendo que a decisão é sempre pelo mais barato."
   ]
  },
  {
   "cell_type": "code",
   "execution_count": null,
   "id": "26a9503e",
   "metadata": {},
   "outputs": [],
   "source": [
    "produto1 = float(input('Informe o preço do primeiro produto em R$: '))\n",
    "produto2 = float(input('Informe o preço do segundo produto em R$: '))\n",
    "produto3 = float(input('Informe o preço do terceiro produto em R$: '))\n",
    "\n",
    "   \n",
    "if produto1 < produto2 and produto1 < produto3:\n",
    "    print('O produto mais barato é o primeiro produto e custa R$', produto1)\n",
    "elif produto2 < produto1 and produto2 < produto3:\n",
    "    print('O produto mais barato é o segundo produto e custa R$', produto2)\n",
    "elif produto3 < produto1 and numero3 < produto3:\n",
    "    print('O produto mais barato é o terceiro produto e custa R$', produto3)"
   ]
  },
  {
   "cell_type": "markdown",
   "id": "9ade258f",
   "metadata": {},
   "source": [
    "#### 9. Faça um Programa que leia três números e mostre-os em ordem decrescente."
   ]
  },
  {
   "cell_type": "code",
   "execution_count": null,
   "id": "f194c39e",
   "metadata": {},
   "outputs": [],
   "source": [
    "numero1 = float(input('Informe o primeiro número: '))\n",
    "numero2 = float(input('Informe o segundo número: '))\n",
    "numero3 = float(input('Informe o terceiro número: '))\n",
    "\n",
    "if numero1 > numero2 and numero1 > numero3:\n",
    "    print('O maior número é', numero1)\n",
    "    if numero2 > numero3:\n",
    "        print('O segundo maior número é', numero2)\n",
    "        print('O terceiro maior número é', numero3)\n",
    "    else:\n",
    "        print('O segundo maior número é', numero3)\n",
    "        print('O terceiro maior número é', numero2)\n",
    "elif numero2 > numero1 and numero2 > numero3:\n",
    "    print('O maior número é', numero2)\n",
    "    if numero1 > numero3:\n",
    "        print('O segundo maior número é', numero1)\n",
    "        print('O terceiro maior número é', numero3)\n",
    "    else:\n",
    "        print('O segundo maior número é', numero3)\n",
    "        print('O terceiro maior número é', numero1)\n",
    "elif numero3 > numero1 and numero3 > numero2:\n",
    "    print('O maior número é', numero3)\n",
    "    if numero1 > numero2:\n",
    "        print('O segundo maior número é', numero1)\n",
    "        print('O terceiro maior número é', numero2)\n",
    "    else:\n",
    "        print('O segundo maior número é', numero2)\n",
    "        print('O terceiro maior número é', numero1)"
   ]
  },
  {
   "cell_type": "markdown",
   "id": "d06e2fe8",
   "metadata": {},
   "source": [
    "#### 10. Faça um Programa que pergunte em que turno você estuda. Peça para digitar M-matutino ou V-Vespertino ou N- Noturno. Imprima a mensagem \"Bom Dia!\", \"Boa Tarde!\" ou \"Boa Noite!\" ou \"Valor Inválido!\", conforme o caso."
   ]
  },
  {
   "cell_type": "code",
   "execution_count": null,
   "id": "1eb36141",
   "metadata": {},
   "outputs": [],
   "source": [
    "turno = input('Informe o turno: ')\n",
    "\n",
    "if turno == 'M':\n",
    "    print('Bom Dia!')\n",
    "elif turno == 'V':\n",
    "    print('Boa Tarde!')\n",
    "elif turno == 'N':\n",
    "    print('Boa Noite!')\n",
    "else:\n",
    "    print('Valor Inválido!')"
   ]
  },
  {
   "cell_type": "markdown",
   "id": "4864b755",
   "metadata": {},
   "source": [
    "#### 11. As Organizações Tabajara resolveram dar um aumento de salário aos seus colaboradores e lhe contraram para desenvolver o programa que calculará os reajustes. Faça um programa que recebe o salário de um colaborador e o reajuste segundo o seguinte critério, baseado no salário atual:\n",
    "\n",
    "##### salários até R\\\\$ 280,00 (incluindo) : aumento de 20% \n",
    "\n",
    "##### salários entre R\\\\$ 280,00 e R\\\\$ 700,00 : aumento de 15% \n",
    "\n",
    "##### salários entre R\\\\$ 700,00 e R\\\\$ 1500,00 : aumento de 10% \n",
    "\n",
    "##### salários de R\\\\$ 1500,00 em diante : aumento de 5% Após o aumento ser realizado, informe na tela: \n",
    "\n",
    "###### o salário antes do reajuste;\n",
    "\n",
    "###### o percentual de aumento aplicado;\n",
    "\n",
    "###### o valor do aumento;\n",
    "\n",
    "###### o novo salário, após o aumento."
   ]
  },
  {
   "cell_type": "code",
   "execution_count": null,
   "id": "f0d34916",
   "metadata": {},
   "outputs": [],
   "source": [
    "salario = float(input('Informe o salário em R$: '))\n",
    "\n",
    "if salario <= 280:\n",
    "    percentual = 0.2    \n",
    "elif salario <= 700:\n",
    "    percentual = 0.15\n",
    "elif salario <= 1500:\n",
    "    percentual = 0.1\n",
    "else:\n",
    "    percentual = 0.05\n",
    "\n",
    "novo_salario = salario * (1 + percentual)\n",
    "aumento = novo_salario - salario\n",
    "\n",
    "print(f'Salário antes do reajuste: R$ {salario:.2f}')\n",
    "print(f'Percentual de aumento: {percentual:.0%}')\n",
    "print(f'O aumento foi de R$ {aumento:.2f}')\n",
    "print(f'Salário após aumento: R$ {novo_salario:.2f}')"
   ]
  },
  {
   "cell_type": "markdown",
   "id": "b037f1e8",
   "metadata": {},
   "source": [
    "#### 12 . Faça um programa para o cálculo de uma folha de pagamento, sabendo que os descontos são do Imposto de Renda, que depende do salário bruto (conforme tabela abaixo) e 3% para o Sindicato e que o FGTS corresponde a 11% do Salário Bruto, mas não é descontado (é a empresa que deposita). O Salário Líquido corresponde ao Salário Bruto menos os descontos. O programa deverá pedir ao usuário o valor da sua hora e a quantidade de horas trabalhadas no mês.\n",
    "\n",
    "Desconto do IR:<br>\n",
    "Salário Bruto até 900 (inclusive) - isento<br>\n",
    "Salário Bruto até 1500 (inclusive) - desconto de 5%<br>\n",
    "Salário Bruto até 2500 (inclusive) - desconto de 10%<br>\n",
    "Salário Bruto acima de 2500 - desconto de 20%<br>\n",
    "Imprima na tela as informações, dispostas conforme o exemplo abaixo. No exemplo o valor da hora é 5 e a quantidade de hora é 220.\n",
    "\n",
    "Salário Bruto: (5 * 220)        : R\\\\$ 1100,00<br>\n",
    "(-) IR (5%)                     : R\\\\$   55,00<br>\n",
    "(-) INSS ( 10%)                 : R\\\\$  110,00<br>\n",
    "FGTS (11%)                      : R\\\\$  121,00<br>\n",
    "Total de descontos              : R\\\\$  165,00<br>\n",
    "Salário Liquido                 : R\\\\$  935,00<br>"
   ]
  },
  {
   "cell_type": "code",
   "execution_count": null,
   "id": "dad18bb2",
   "metadata": {},
   "outputs": [],
   "source": [
    "valor_hora = float(input('Informe o valor da hora R$: '))\n",
    "qtd_horas = int(input('Informe a quantidade de horas trabalhadas: '))\n",
    "salario = valor_hora * qtd_horas\n",
    "print(f'Salário Bruto: ({valor_hora:.2f} * {qtd_horas})\\t: R$ {salario:.2f}')\n",
    "\n",
    "if salario <= 900:\n",
    "    percentual = 0\n",
    "elif salario <= 1500:\n",
    "    percentual = 0.05\n",
    "elif salario <= 2500:\n",
    "    percentual = 0.1\n",
    "else:\n",
    "    percentual = 0.2\n",
    "\n",
    "ir = percentual * salario\n",
    "inss = 0.1 * salario\n",
    "fgts = 0.11 * salario\n",
    "total_desconto = ir + inss\n",
    "salario_liquido = salario - total_desconto\n",
    "print(f'(-) IR ({percentual:.0%}):\\t\\t\\t: R$ {ir:.2f}')\n",
    "print(f'(-) INSS ({0.1:.0%}):\\t\\t\\t: R$ {inss:.2f}')\n",
    "print(f'FGTS ({0.11:.0%}):\\t\\t\\t: R$ {fgts:.2f}')\n",
    "print(f'Total de descontos:\\t\\t: R$ {total_desconto:.2f}')\n",
    "print(f'Salário Líquido:\\t\\t: R$ {salario_liquido:.2f}')"
   ]
  },
  {
   "cell_type": "markdown",
   "id": "814fc211",
   "metadata": {},
   "source": [
    "#### 13. Faça um Programa que leia um número e exiba o dia correspondente da semana. (1-Domingo, 2- Segunda, etc.), se digitar outro valor deve aparecer valor inválido."
   ]
  },
  {
   "cell_type": "code",
   "execution_count": null,
   "id": "f2c2b8d8",
   "metadata": {},
   "outputs": [],
   "source": [
    "dia = int(input('Informe o número: '))\n",
    "\n",
    "if dia == 1:\n",
    "    dia_semana = 'Domingo'\n",
    "elif dia == 2:\n",
    "    dia_semana = 'Segunda-feira'\n",
    "elif dia == 3:\n",
    "    dia_semana = 'Terça-feira'\n",
    "elif dia == 4:\n",
    "    dia_semana = 'Quarta-feira'\n",
    "elif dia == 5:\n",
    "    dia_semana = 'Quinta-feira'\n",
    "elif dia == 6:\n",
    "    dia_semana = 'Sexta-feira'\n",
    "elif dia == 7:\n",
    "    dia_semana = 'Sábado'\n",
    "else:\n",
    "    dia_semana = 'Valor inválido'\n",
    "    \n",
    "print(dia_semana)"
   ]
  },
  {
   "cell_type": "markdown",
   "id": "6e5f461e",
   "metadata": {},
   "source": [
    "#### 14. Faça um programa que lê as duas notas parciais obtidas por um aluno numa disciplina ao longo de um semestre, e calcule a sua média. A atribuição de conceitos obedece à tabela abaixo:\n",
    "<pre>\n",
    "Média de Aproveitamento  Conceito\n",
    "Entre 9.0 e 10.0        A\n",
    "Entre 7.5 e 9.0         B\n",
    "Entre 6.0 e 7.5         C\n",
    "Entre 4.0 e 6.0         D\n",
    "Entre 4.0 e zero        E\n",
    "</pre>"
   ]
  },
  {
   "cell_type": "code",
   "execution_count": null,
   "id": "29721a43",
   "metadata": {},
   "outputs": [],
   "source": [
    "nota1 = float(input('Informe a primeira nota: '))\n",
    "nota2 = float(input('Informe a segunda nota: '))\n",
    "\n",
    "media = (nota1 + nota2)/2\n",
    "\n",
    "if 9 < media <= 10:\n",
    "    conceito = 'A'\n",
    "elif 7.5 < media <= 9:\n",
    "    conceito = 'B'\n",
    "elif 6 < media <= 7.5:\n",
    "    conceito = 'C'\n",
    "elif 4 < media <= 6:\n",
    "    conceito = 'D'\n",
    "elif 0 < media <= 4:\n",
    "    conceito = 'E'\n",
    "else:\n",
    "    conceito = 'Conceito inválido'\n",
    "    \n",
    "print('O conceito é:', conceito)"
   ]
  },
  {
   "cell_type": "markdown",
   "id": "64ed9c94",
   "metadata": {},
   "source": [
    "#### 15. Faça um Programa que peça os 3 lados de um triângulo. O programa deverá informar se os valores podem ser um triângulo. Indique, caso os lados formem um triângulo, se o mesmo é: equilátero, isósceles ou escaleno.\n",
    "<pre>\n",
    "Dicas:\n",
    "Três lados formam um triângulo quando a soma de quaisquer dois lados for maior que o terceiro;\n",
    "Triângulo Equilátero: três lados iguais;\n",
    "Triângulo Isósceles: quaisquer dois lados iguais;\n",
    "Triângulo Escaleno: três lados diferentes;\n",
    "</pre>"
   ]
  },
  {
   "cell_type": "code",
   "execution_count": null,
   "id": "0118c901",
   "metadata": {},
   "outputs": [],
   "source": [
    "lado1 = float(input('Informe o tamanho do primeiro lado: '))\n",
    "lado2 = float(input('Informe o tamanho do segundo lado: '))\n",
    "lado3 = float(input('Informe o tamanho do terceiro lado: '))\n",
    "\n",
    "if lado1 + lado2 > lado3 and lado2 + lado3 > lado1 and lado1 + lado3 > lado2:\n",
    "    if lado1 == lado2 == lado3:\n",
    "        print('O triângulo é equilátero.')\n",
    "    elif lado1 == lado2 or lado2 == lado3 or lado1 == lado3:\n",
    "        print('O triângulo é isóceles.')\n",
    "    else:\n",
    "        print('O triângulo é escaleno.')\n",
    "else:\n",
    "    print('Não é triângulo.')"
   ]
  },
  {
   "cell_type": "markdown",
   "id": "76615f4f",
   "metadata": {},
   "source": [
    "#### 16. Faça um programa que calcule as raízes de uma equação do segundo grau, na forma ax2 + bx + c. O programa deverá pedir os valores de a, b e c e fazer as consistências, informando ao usuário nas seguintes situações:\n",
    "<pre>\n",
    "Se o usuário informar o valor de A igual a zero, a equação não é do segundo grau e o programa não deve fazer pedir os demais valores, sendo encerrado;\n",
    "Se o delta calculado for negativo, a equação não possui raizes reais. Informe ao usuário e encerre o programa;\n",
    "Se o delta calculado for igual a zero a equação possui apenas uma raiz real; informe-a ao usuário;\n",
    "Se o delta for positivo, a equação possui duas raiz reais; informe-as ao usuário;\n",
    "\n",
    "\n",
    "</pre>\n",
    "Como calcular delta:\n",
    "\n",
    "$ \\Delta = b^2 - 4 \\cdot a \\cdot c$\n",
    "\n",
    "Como calcular as raízes:\n",
    "\n",
    "$ x = \\frac{-b \\pm \\sqrt{\\Delta}}{2a} $\n",
    "\n",
    "Mais sobre equações quadráticas:\n",
    "https://pt.wikipedia.org/wiki/Equa%C3%A7%C3%A3o_quadr%C3%A1tica"
   ]
  },
  {
   "cell_type": "code",
   "execution_count": null,
   "id": "d22989b7",
   "metadata": {},
   "outputs": [],
   "source": [
    "a = float(input('Informe o valor de a: '))\n",
    "if a == 0:\n",
    "    print('A equação não é do segundo grau')\n",
    "else:\n",
    "    b = float(input('Informe o valor de b: '))\n",
    "    c = float(input('Informe o valor de c: '))\n",
    "    \n",
    "    delta = b**2 - 4 * a * c\n",
    "    \n",
    "    if delta < 0:\n",
    "        print('A equação não possui raizes reais')\n",
    "    elif delta == 0:\n",
    "        x = (-b + delta ** (1/2)) / (2*a)\n",
    "        print('A raiz é x =', x)\n",
    "    else:\n",
    "        x1 = (-b + delta ** (1/2)) / (2*a)\n",
    "        x2 = (-b - delta ** (1/2)) / (2*a)\n",
    "        \n",
    "        print('As raizes são:')\n",
    "        print('x1 =', x1)\n",
    "        print('x2 =', x2)"
   ]
  },
  {
   "cell_type": "markdown",
   "id": "e6b3bcaf",
   "metadata": {},
   "source": [
    "#### 17. Faça um Programa que peça um número correspondente a um determinado ano e em seguida informe se este ano é ou não bissexto.\n",
    "<pre>\n",
    "Dica: \n",
    "São bissextos todos os anos múltiplos de 400, p.ex.: 1600, 2000, 2400, 2800...\n",
    "São bissextos todos os múltiplos de 4, exceto se for múltiplo de 100 mas não de 400, p.ex.: 1996, 2000, 2004, 2008, 2012, 2016, 2020, 2024, 2028...\n",
    "Não são bissextos todos os demais anos.\n",
    "</pre>"
   ]
  },
  {
   "cell_type": "code",
   "execution_count": null,
   "id": "56af223f",
   "metadata": {},
   "outputs": [],
   "source": [
    "ano = int(input('Informe o ano: '))\n",
    "\n",
    "if (ano % 4 == 0 and ano % 100 != 0) or ano % 400 == 0:\n",
    "    print('O ano é bissexto.')\n",
    "else:\n",
    "    print('Não é um ano bissexto.')"
   ]
  },
  {
   "cell_type": "markdown",
   "id": "cb02fafa",
   "metadata": {},
   "source": [
    "#### 18. Faça um Programa que peça uma data no formato dd/mm/aaaa e determine se a mesma é uma data válida."
   ]
  },
  {
   "cell_type": "code",
   "execution_count": null,
   "id": "b87fa70f",
   "metadata": {},
   "outputs": [],
   "source": [
    "data = input('Informe a data no formato dd/mm/aaaa: ')\n",
    "\n",
    "data = data.split('/')\n",
    "dia = int(data[0])\n",
    "mes = int(data[1])\n",
    "ano = int(data[2])\n",
    "\n",
    "bissexto = False\n",
    "if (ano % 4 == 0 and ano % 100 != 0) or ano % 400 == 0:\n",
    "    bissexto = True\n",
    "\n",
    "if not 0 < dia < 32:\n",
    "    print('Dia inválido')\n",
    "elif not 0 < mes < 13:\n",
    "    print('Mês inválido')\n",
    "elif dia == 31 and not mes in [1, 3, 5, 7, 8, 10, 12]:\n",
    "    print('O mês', mes, 'não possui 31 dias.')\n",
    "elif dia == 30 and mes == 2:\n",
    "    print('O mês 2 não possui 30 dias.')\n",
    "elif dia == 29 and mes == 2 and not bissexto:\n",
    "    print('O mês 2 no ano', ano, 'não possuiu 29 dias.')\n",
    "else:\n",
    "    print('Data válida')"
   ]
  },
  {
   "cell_type": "markdown",
   "id": "5314a450",
   "metadata": {},
   "source": [
    "#### 19. Faça um Programa que leia um número inteiro menor que 1000 e imprima a quantidade de centenas, dezenas e unidades do mesmo.\n",
    "<pre>\n",
    "Observando os termos no plural a colocação do \"e\", da vírgula entre outros. Exemplo:\n",
    "326 = 3 centenas, 2 dezenas e 6 unidades\n",
    "12 = 1 dezena e 2 unidades \n",
    "\n",
    "Testar com: 326, 300, 100, 320, 310,305, 301, 101, 311, 111, 25, 20, 10, 21, 11, 1, 7 e 16\n",
    "</pre>"
   ]
  },
  {
   "cell_type": "code",
   "execution_count": null,
   "id": "4888c5a5",
   "metadata": {},
   "outputs": [],
   "source": [
    "lista = [326, 300, 100, 320, 310,305, 301, 101, 311, 111, 25, 20, 10, 21, 11, 1, 7, 16]\n",
    "\n",
    "for item in lista:\n",
    "    centena = item // 100\n",
    "    dezena = (item - 100*centena) // 10\n",
    "    unidade = item - 100*centena - 10*dezena\n",
    "    \n",
    "    imp_centena = ''\n",
    "    if centena == 1:\n",
    "        imp_centena = '1 centena'\n",
    "    elif centena > 1:\n",
    "        imp_centena = f'{centena} centenas'\n",
    "        \n",
    "    \n",
    "    imp_dezena = ''\n",
    "    if dezena == 1:\n",
    "        imp_dezena = '1 dezena'\n",
    "    elif dezena > 1:\n",
    "        imp_dezena = f'{dezena} dezenas'\n",
    "    \n",
    "    imp_unidade = ''\n",
    "    if unidade == 1:\n",
    "        imp_unidade = '1 unidade'\n",
    "    elif unidade > 1:\n",
    "        imp_unidade = f'{unidade} unidades'\n",
    "    \n",
    "    if centena > 0 and dezena > 0 and unidade > 0:\n",
    "        print(f'{imp_centena}, {imp_dezena} e {imp_unidade}')\n",
    "    elif centena > 0 and dezena > 0:\n",
    "        print(f'{imp_centena} e {imp_dezena}')\n",
    "    elif centena > 0 and unidade > 0:\n",
    "        print(f'{imp_centena} e {imp_unidade}')\n",
    "    elif dezena > 0 and unidade > 0:\n",
    "        print(f'{imp_dezena} e {imp_unidade}')\n",
    "    elif centena > 0:\n",
    "        print(f'{imp_centena}')\n",
    "    elif dezena > 0:\n",
    "        print(f'{imp_dezena}')\n",
    "    elif unidade > 0:\n",
    "        print(f'{imp_unidade}')"
   ]
  },
  {
   "cell_type": "markdown",
   "id": "9fe532c8",
   "metadata": {},
   "source": [
    "#### 20. Faça um Programa para leitura de três notas parciais de um aluno. O programa deve calcular a média alcançada por aluno e presentar:\n",
    "<pre>\n",
    "A mensagem \"Aprovado\", se a média for maior ou igual a 7, com a respectiva média alcançada;\n",
    "A mensagem \"Reprovado\", se a média for menor do que 7, com a respectiva média alcançada;\n",
    "A mensagem \"Aprovado com Distinção\", se a média for igual a 10.\n",
    "</pre>"
   ]
  },
  {
   "cell_type": "code",
   "execution_count": null,
   "id": "1a56e99f",
   "metadata": {},
   "outputs": [],
   "source": [
    "nota1 = float(input('Informe a primeira nota: '))\n",
    "nota2 = float(input('Informe a segunda nota: '))\n",
    "nota3 = float(input('Informe a terceira nota: '))\n",
    "\n",
    "media = (nota1 + nota2 + nota3) / 3\n",
    "\n",
    "if media == 10:\n",
    "    print('Aprovado com Distinção')\n",
    "    print('Média:', media)\n",
    "elif 7 <= media < 10:\n",
    "    print('Aprovado')\n",
    "    print('Média:', media)\n",
    "elif media < 7:\n",
    "    print('Reprovado')\n",
    "    print('Média:', media)"
   ]
  },
  {
   "cell_type": "markdown",
   "id": "0e5256e0",
   "metadata": {},
   "source": [
    "#### 21. Faça um Programa para um caixa eletrônico. O programa deverá perguntar ao usuário a valor do saque e depois informar quantas notas de cada valor serão fornecidas. As notas disponíveis serão as de 1, 5, 10, 50 e 100 reais. O valor mínimo é de 10 reais e o máximo de 600 reais. O programa não deve se preocupar com a quantidade de notas existentes na máquina.\n",
    "<pre>\n",
    "Exemplo 1: Para sacar a quantia de 256 reais, o programa fornece duas notas de 100, uma nota de 50, uma nota de 5 e uma nota de 1;\n",
    "Exemplo 2: Para sacar a quantia de 399 reais, o programa fornece três notas de 100, uma nota de 50, quatro notas de 10, uma nota de 5 e quatro notas de 1.\n",
    "</pre>"
   ]
  },
  {
   "cell_type": "code",
   "execution_count": null,
   "id": "9b4244c7",
   "metadata": {},
   "outputs": [],
   "source": [
    "valor = int(input('Informe o valor a ser sacado: '))\n",
    "\n",
    "if 10 <= valor <= 600:\n",
    "    n100 = valor // 100\n",
    "    n50 = (valor - 100*n100) // 50\n",
    "    n10 = (valor - 100*n100 - 50*n50) // 10\n",
    "    n5 = (valor - 100*n100 - 50*n50 - 10*n10) // 5\n",
    "    n1 = valor - 100*n100 - 50*n50 - 10*n10 - 5*n5\n",
    "    print('São necessárias:')\n",
    "    print(n100, 'notas de 100')\n",
    "    print(n50, 'notas de 50')\n",
    "    print(n10, 'notas de 10')\n",
    "    print(n5, 'notas de 5')\n",
    "    print(n1, 'notas de 1')\n",
    "else:\n",
    "    print('Informe um valor entre 10 e 600 reais')"
   ]
  },
  {
   "cell_type": "markdown",
   "id": "061e1825",
   "metadata": {},
   "source": [
    "#### 22. Faça um Programa que peça um número inteiro e determine se ele é par ou impar. Dica: utilize o operador módulo (resto da divisão)."
   ]
  },
  {
   "cell_type": "code",
   "execution_count": null,
   "id": "6fb53217",
   "metadata": {},
   "outputs": [],
   "source": [
    "numero = int(input('Informe um número: '))\n",
    "\n",
    "# se o resto da divisão do número por 2 for igual a zero, significa que ele é par, caso contrário é ímpar\n",
    "if numero % 2 == 0:\n",
    "    print('O número é par')\n",
    "else:\n",
    "    print('O número é ímpar')"
   ]
  },
  {
   "cell_type": "markdown",
   "id": "7dce3c09",
   "metadata": {},
   "source": [
    "#### 23. Faça um Programa que peça um número e informe se o número é inteiro ou decimal. Dica: utilize uma função de arredondamento."
   ]
  },
  {
   "cell_type": "code",
   "execution_count": null,
   "id": "f62c8012",
   "metadata": {},
   "outputs": [],
   "source": [
    "numero = float(input('Informe um número: '))\n",
    "\n",
    "if numero == int(numero):\n",
    "    print('O número é inteiro')\n",
    "else:\n",
    "    print('O número é decimal')"
   ]
  },
  {
   "cell_type": "markdown",
   "id": "3e2e7945",
   "metadata": {},
   "source": [
    "#### 24. Faça um Programa que leia 2 números e em seguida pergunte ao usuário qual operação ele deseja realizar. O resultado da operação deve ser acompanhado de uma frase que diga se o número é:\n",
    "<pre>\n",
    "par ou ímpar;\n",
    "positivo ou negativo;\n",
    "inteiro ou decimal.\n",
    "</pre>"
   ]
  },
  {
   "cell_type": "code",
   "execution_count": null,
   "id": "a44b0341",
   "metadata": {},
   "outputs": [],
   "source": [
    "n1 = float(input('Informe o primeiro número: '))\n",
    "n2 = float(input('Informe o segundo número: '))\n",
    "\n",
    "operacao = input('Informe uma operação: +, -, *, /')\n",
    "\n",
    "if operacao == '+':\n",
    "    resultado = n1 + n2\n",
    "elif operacao == '-':\n",
    "    resultado = n1 - n2\n",
    "elif operacao == '*':\n",
    "    resultado = n1 * n2\n",
    "elif operacao == '/':\n",
    "    resultado = n1 / n2\n",
    "\n",
    "if resultado > 0:\n",
    "    print('O resultado é positivo')\n",
    "elif resultado < 0:\n",
    "    print('O resultado é negativo')\n",
    "else:\n",
    "    print('O resultado é zero')\n",
    "    \n",
    "if resultado == int(resultado):\n",
    "    print('O resultado é inteiro')\n",
    "    if int(resultado) % 2 == 0:\n",
    "        print('O número é par')\n",
    "    else:\n",
    "        print('O número é ímpar')\n",
    "else:\n",
    "    print('O resultado é decimal')"
   ]
  },
  {
   "cell_type": "markdown",
   "id": "cba47494",
   "metadata": {},
   "source": [
    "#### 25. Faça um programa que faça 5 perguntas para uma pessoa sobre um crime. As perguntas são:\n",
    "<pre>\n",
    "\"Telefonou para a vítima?\"\n",
    "\"Esteve no local do crime?\"\n",
    "\"Mora perto da vítima?\"\n",
    "\"Devia para a vítima?\"\n",
    "\"Já trabalhou com a vítima?\" O programa deve no final emitir uma classificação sobre a participação da pessoa no crime. Se a pessoa responder positivamente a 2 questões ela deve ser classificada como \"Suspeita\", entre 3 e 4 como \"Cúmplice\" e 5 como \"Assassino\". Caso contrário, ele será classificado como \"Inocente\".\n",
    "</pre>"
   ]
  },
  {
   "cell_type": "code",
   "execution_count": null,
   "id": "5fdf9b88",
   "metadata": {},
   "outputs": [],
   "source": [
    "total = 0\n",
    "\n",
    "resposta = input('Telefonou para a vítima?')\n",
    "\n",
    "if resposta == 'sim':\n",
    "    total += 1\n",
    "    \n",
    "resposta = input('Esteve no local do crime?')\n",
    "\n",
    "if resposta == 'sim':\n",
    "    total += 1\n",
    "    \n",
    "resposta = input('Mora perto da vítima?')\n",
    "\n",
    "if resposta == 'sim':\n",
    "    total += 1\n",
    "    \n",
    "resposta = input('Devia para a vítima?')\n",
    "\n",
    "if resposta == 'sim':\n",
    "    total += 1\n",
    "    \n",
    "resposta = input('Já trabalhou com a vítima?')\n",
    "\n",
    "if resposta == 'sim':\n",
    "    total += 1\n",
    "    \n",
    "if total == 2:\n",
    "    print('Suspeita')\n",
    "elif 3 <= total <= 4:\n",
    "    print('Cúmplice')\n",
    "elif total == 5:\n",
    "    print('Assassino')\n",
    "else:\n",
    "    print('Inocente')"
   ]
  },
  {
   "cell_type": "markdown",
   "id": "18901e98",
   "metadata": {},
   "source": [
    "#### 26. Um posto está vendendo combustíveis com a seguinte tabela de descontos:\n",
    "<pre>\n",
    "Álcool:\n",
    "até 20 litros, desconto de 3% por litro\n",
    "acima de 20 litros, desconto de 5% por litro\n",
    "Gasolina:\n",
    "até 20 litros, desconto de 4% por litro\n",
    "acima de 20 litros, desconto de 6% por litro\n",
    "\n",
    "Escreva um algoritmo que leia o número de litros vendidos, o tipo de combustível (codificado da seguinte forma: A-álcool, G-gasolina), calcule e imprima o valor a ser pago pelo cliente sabendo-se que o preço do litro da gasolina é R$ 2,50 o preço do litro do álcool é R$ 1,90.\n",
    "</pre>"
   ]
  },
  {
   "cell_type": "code",
   "execution_count": null,
   "id": "a1fd8c38",
   "metadata": {},
   "outputs": [],
   "source": [
    "tipo = input('Informe o tipo de combustível: ')\n",
    "quantidade = float(input('Informe a quantidade de combustível: '))\n",
    "\n",
    "if tipo == 'A' and quantidade <= 20:\n",
    "    total = (1.9 * quantidade) * 0.97\n",
    "elif tipo == 'A' and quantidade > 20:\n",
    "    total = (1.9 * quantidade) * 0.95\n",
    "elif tipo == 'G' and quantidade <= 20:\n",
    "    total = (2.5 * quantidade) * 0.96\n",
    "elif tipo == 'G' and quantidade > 20:\n",
    "    total = (2.5 * quantidade) * 0.94\n",
    "\n",
    "print('Total a pagar: R$', total)"
   ]
  },
  {
   "cell_type": "markdown",
   "id": "be0f8f32",
   "metadata": {},
   "source": [
    "#### 27. Uma fruteira está vendendo frutas com a seguinte tabela de preços:\n",
    "<pre>\n",
    "                      Até 5 Kg           Acima de 5 Kg\n",
    "Morango         R$ 2,50 por Kg          R$ 2,20 por Kg\n",
    "Maçã            R$ 1,80 por Kg          R$ 1,50 por Kg\n",
    "Se o cliente comprar mais de 8 Kg em frutas ou o valor total da compra ultrapassar R$ 25,00, receberá ainda um desconto de 10% sobre este total. Escreva um algoritmo para ler a quantidade (em Kg) de morangos e a quantidade (em Kg) de maças adquiridas e escreva o valor a ser pago pelo cliente.\n",
    "</pre>"
   ]
  },
  {
   "cell_type": "code",
   "execution_count": null,
   "id": "35c47c8e",
   "metadata": {},
   "outputs": [],
   "source": [
    "qtd_morango = float(input('Informe a quantidade de morango: '))\n",
    "qtd_maca = float(input('Informe a quantidade de maçã: '))\n",
    "\n",
    "if qtd_morango > 5:\n",
    "    total_morango = 2.2 * qtd_morango\n",
    "else:\n",
    "    total_morango = 2.5 * qtd_morango\n",
    "    \n",
    "if qtd_maca > 5:\n",
    "    total_maca = 1.5 * qtd_maca\n",
    "else:\n",
    "    total_maca = 1.8 * qtd_maca\n",
    "    \n",
    "if qtd_morango + qtd_maca > 8 or total_morango + total_maca > 25:\n",
    "    total = (total_morango + total_maca) * 0.9\n",
    "else:\n",
    "    total = total_morango + total_maca\n",
    "    \n",
    "print('Total a pagar: R$', total)"
   ]
  },
  {
   "cell_type": "markdown",
   "id": "4dbd53ed",
   "metadata": {},
   "source": [
    "#### 28. O Hipermercado Tabajara está com uma promoção de carnes que é imperdível. Confira:\n",
    "<pre>\n",
    "                      Até 5 Kg           Acima de 5 Kg\n",
    "File Duplo      R$ 4,90 por Kg          R$ 5,80 por Kg\n",
    "Alcatra         R$ 5,90 por Kg          R$ 6,80 por Kg\n",
    "Picanha         R$ 6,90 por Kg          R$ 7,80 por Kg\n",
    "Para atender a todos os clientes, cada cliente poderá levar apenas um dos tipos de carne da promoção, porém não há limites para a quantidade de carne por cliente. Se compra for feita no cartão Tabajara o cliente receberá ainda um desconto de 5% sobre o total da compra. Escreva um programa que peça o tipo e a quantidade de carne comprada pelo usuário e gere um cupom fiscal, contendo as informações da compra: tipo e quantidade de carne, preço total, tipo de pagamento, valor do desconto e valor a pagar.\n",
    "</pre>"
   ]
  },
  {
   "cell_type": "code",
   "execution_count": null,
   "id": "15a77357",
   "metadata": {},
   "outputs": [],
   "source": [
    "tipo = input('Informe o tipo da carne: ')\n",
    "quantidade = float(input('Informe a quantidade de carne: '))\n",
    "pagamento = input('Escolha a forma de pagamento (C - Cartão Tabajara/D - Dinheiro): ')\n",
    "\n",
    "if tipo == 'File Duplo' and quantidade > 5:\n",
    "    total = 5.8 * quantidade\n",
    "elif tipo == 'File Duplo' and quantidade <= 5:\n",
    "    total = 4.9 * quantidade\n",
    "elif tipo == 'Alcatra' and quantidade > 5:\n",
    "    total = 6.8 * quantidade\n",
    "elif tipo == 'Alcatra' and quantidade <= 5:\n",
    "    total = 5.9 * quantidade\n",
    "elif tipo == 'Picanha' and quantidade > 5:\n",
    "    total = 7.8 * quantidade\n",
    "elif tipo == 'Picanha' and quantidade <= 5:\n",
    "    total = 6.9 * quantidade\n",
    "    \n",
    "print('--- CUPOM FISCAL ---')\n",
    "print('Tipo da carne:', tipo)\n",
    "print('Quantidade:', quantidade, 'kg')\n",
    "print('Preço total: R$', total)\n",
    "print('Forma de pagamento:', pagamento)\n",
    "\n",
    "desconto = 0.05 * total if pagamento == 'C' else 0\n",
    "\n",
    "print('Desconto: R$', desconto)\n",
    "print('Valor a pagar: R$', total - desconto)"
   ]
  }
 ],
 "metadata": {
  "kernelspec": {
   "display_name": "Python 3 (ipykernel)",
   "language": "python",
   "name": "python3"
  },
  "language_info": {
   "codemirror_mode": {
    "name": "ipython",
    "version": 3
   },
   "file_extension": ".py",
   "mimetype": "text/x-python",
   "name": "python",
   "nbconvert_exporter": "python",
   "pygments_lexer": "ipython3",
   "version": "3.9.12"
  }
 },
 "nbformat": 4,
 "nbformat_minor": 5
}
