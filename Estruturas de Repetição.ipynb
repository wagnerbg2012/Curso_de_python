{
 "cells": [
  {
   "cell_type": "markdown",
   "id": "ac60394f",
   "metadata": {},
   "source": [
    "# Estruturas de repetição\n",
    "\n",
    "<span style=\"color: red;\"><b>Todos os exercícios são feitos partindo-se do pressuposto de que todas as entradas são dadas de forma correta. Casos limite não mencionados no enunciado não são abordados porque não fazem parte do exercício.</b></span>"
   ]
  },
  {
   "cell_type": "markdown",
   "id": "017affd0",
   "metadata": {},
   "source": [
    "#### 1. Faça um programa que peça uma nota, entre zero e dez. Mostre uma mensagem caso o valor seja inválido e continue pedindo até que o usuário informe um valor válido."
   ]
  },
  {
   "cell_type": "code",
   "execution_count": null,
   "id": "5f12870d",
   "metadata": {},
   "outputs": [],
   "source": [
    "nota = float(input('Informe uma nota entre 0 e 10: '))\n",
    "while not (0 <= nota <= 10):\n",
    "    print('Nota inválida')\n",
    "    nota = float(input('Informe uma nota entre 0 e 10: '))"
   ]
  },
  {
   "cell_type": "markdown",
   "id": "dd0c6d56",
   "metadata": {},
   "source": [
    "#### 2. Faça um programa que leia um nome de usuário e a sua senha e não aceite a senha igual ao nome do usuário, mostrando uma mensagem de erro e voltando a pedir as informações."
   ]
  },
  {
   "cell_type": "code",
   "execution_count": null,
   "id": "f6579866",
   "metadata": {},
   "outputs": [],
   "source": [
    "login = input('Informe o login: ')\n",
    "senha = input('Informe o senha: ')\n",
    "while login == senha:\n",
    "    print('O login não pode ser igual à senha')\n",
    "    login = input('Informe o login: ')\n",
    "    senha = input('Informe o senha: ')"
   ]
  },
  {
   "cell_type": "markdown",
   "id": "ed113a82",
   "metadata": {},
   "source": [
    "#### 3. Faça um programa que leia e valide as seguintes informações:\n",
    "##### Nome: maior que 3 caracteres;\n",
    "##### Idade: entre 0 e 150;\n",
    "##### Salário: maior que zero;\n",
    "##### Sexo: 'f' ou 'm';\n",
    "##### Estado Civil: 's', 'c', 'v', 'd';"
   ]
  },
  {
   "cell_type": "code",
   "execution_count": null,
   "id": "3284f187",
   "metadata": {},
   "outputs": [],
   "source": [
    "nome = input('Informe o nome: ')\n",
    "\n",
    "while len(nome) < 4:\n",
    "    print('Insira um nome com mais de 3 caracteres')\n",
    "    nome = input('Informe o nome: ')\n",
    "    \n",
    "idade = int(input('Informe a idade: '))\n",
    "\n",
    "while not (0 <= idade <= 150):\n",
    "    print('Insira uma idade entre 0 e 150 anos')\n",
    "    idade = int(input('Informe a idade: '))\n",
    "    \n",
    "salario = float(input('Informe o salário: '))\n",
    "\n",
    "while salario <= 0:\n",
    "    print('Insira um salário maior que zero')\n",
    "    salario = float(input('Informe o salário: '))\n",
    "    \n",
    "genero = input('Informe o gênero \"f\" para feminino ou \"m\" para masculino: ')\n",
    "\n",
    "while not genero in ['f', 'm']:\n",
    "    print('Insira um gênero válido')\n",
    "    genero = input('Informe o gênero \"f\" para feminino ou \"m\" para masculino: ')\n",
    "    \n",
    "estado_civil = input('Informe o estado civil \"s\", \"c\", \"v\" ou \"d\": ')\n",
    "\n",
    "while not estado_civil in ['s', 'c', 'v', 'd']:\n",
    "    print('Insira um estado civil válido')\n",
    "    estado_civil = input('Informe o estado civil \"s\", \"c\", \"v\" ou \"d\": ')"
   ]
  },
  {
   "cell_type": "markdown",
   "id": "2f25dceb",
   "metadata": {},
   "source": [
    "#### 4. Supondo que a população de um país A seja da ordem de 80000 habitantes com uma taxa anual de crescimento de 3% e que a população de B seja 200000 habitantes com uma taxa de crescimento de 1.5%. Faça um programa que calcule e escreva o número de anos necessários para que a população do país A ultrapasse ou iguale a população do país B, mantidas as taxas de crescimento."
   ]
  },
  {
   "cell_type": "code",
   "execution_count": null,
   "id": "7ad0f5e9",
   "metadata": {},
   "outputs": [],
   "source": [
    "populacao_A = 80000\n",
    "populacao_B = 200000\n",
    "\n",
    "tempo = 0\n",
    "\n",
    "while populacao_A < populacao_B:\n",
    "    populacao_A *= 1.03\n",
    "    populacao_B *= 1.015\n",
    "    tempo += 1\n",
    "\n",
    "print('São necessários', tempo, 'anos para a população A igualar ou superar a população B')"
   ]
  },
  {
   "cell_type": "markdown",
   "id": "e9626858",
   "metadata": {},
   "source": [
    "#### 5. Altere o programa anterior permitindo ao usuário informar as populações e as taxas de crescimento iniciais. Valide a entrada e permita repetir a operação."
   ]
  },
  {
   "cell_type": "code",
   "execution_count": null,
   "id": "c7e250a4",
   "metadata": {},
   "outputs": [],
   "source": [
    "repete = 's'\n",
    "\n",
    "while repete == 's':\n",
    "\n",
    "    populacao_A = int(input('Informe a população A: '))\n",
    "    populacao_B = int(input('Informe a população B: '))\n",
    "\n",
    "    while populacao_A <= 0 or populacao_B <= 0:\n",
    "        print('As populações precisam ser maiores que zero')\n",
    "        populacao_A = int(input('Informe a população A: '))\n",
    "        populacao_B = int(input('Informe a população B: '))\n",
    "\n",
    "    taxa_A = float(input('Informe a taxa de crescimento da população A em porcentagem (exemplo: entre 3 para 3%): '))\n",
    "    taxa_B = float(input('Informe a taxa de crescimento da população A em porcentagem (exemplo: entre 3 para 3%): '))\n",
    "\n",
    "    while taxa_A <= 0 or taxa_B <= 0:\n",
    "        print('As taxas precisam ser maiores que zero')\n",
    "        taxa_A = float(input('Informe a taxa de crescimento da população A em porcentagem (exemplo: entre 3 para 3%): '))\n",
    "        taxa_B = float(input('Informe a taxa de crescimento da população A em porcentagem (exemplo: entre 3 para 3%): '))\n",
    "\n",
    "    taxa_A = taxa_A / 100 + 1\n",
    "    taxa_B = taxa_B / 100 + 1\n",
    "\n",
    "    tempo = 0\n",
    "\n",
    "    while populacao_A < populacao_B:\n",
    "        populacao_A *= taxa_A\n",
    "        populacao_B *= taxa_B\n",
    "        tempo += 1\n",
    "\n",
    "    print('São necessários', tempo, 'anos para a população A igualar ou superar a população B')\n",
    "    \n",
    "    repete = input('Deseja repetir a operação? Tecle \"s\" para sim, qualquer outra tecla para não.')"
   ]
  },
  {
   "cell_type": "markdown",
   "id": "92d63f0e",
   "metadata": {},
   "source": [
    "#### 6. Faça um programa que imprima na tela os números de 1 a 20, um abaixo do outro. "
   ]
  },
  {
   "cell_type": "code",
   "execution_count": null,
   "id": "8cae1511",
   "metadata": {},
   "outputs": [],
   "source": [
    "for i in range(1, 21):\n",
    "    print(i)"
   ]
  },
  {
   "cell_type": "markdown",
   "id": "70106cdf",
   "metadata": {},
   "source": [
    "#### Depois modifique o programa para que ele mostre os números um ao lado do outro."
   ]
  },
  {
   "cell_type": "code",
   "execution_count": null,
   "id": "66ea2651",
   "metadata": {},
   "outputs": [],
   "source": [
    "for i in range(20):\n",
    "    print(i + 1, end=' ')"
   ]
  },
  {
   "cell_type": "markdown",
   "id": "b3d268b5",
   "metadata": {},
   "source": [
    "#### 7. Faça um programa que leia 5 números e informe o maior número."
   ]
  },
  {
   "cell_type": "code",
   "execution_count": null,
   "id": "8078e7a5",
   "metadata": {},
   "outputs": [],
   "source": [
    "numero = float('-inf') # isso significa menos infinito\n",
    "for _ in range(5): # o sublinhado (_) significa que não queremos atribuir valor a nenhuma variável enquanto percorremos o for\n",
    "    novo_numero = float(input('Informe um número:'))\n",
    "    if novo_numero > numero:\n",
    "        numero = novo_numero\n",
    "\n",
    "print(numero, 'é o maior número')"
   ]
  },
  {
   "cell_type": "markdown",
   "id": "6407824c",
   "metadata": {},
   "source": [
    "#### 8. Faça um programa que leia 5 números e informe a soma e a média dos números."
   ]
  },
  {
   "cell_type": "code",
   "execution_count": null,
   "id": "a02320d1",
   "metadata": {},
   "outputs": [],
   "source": [
    "total = 0\n",
    "\n",
    "for _ in range(5):\n",
    "    numero = float(input('Informe um número:'))\n",
    "    total += numero\n",
    "    \n",
    "print('A soma é', total)\n",
    "print('A média é', total/5)"
   ]
  },
  {
   "cell_type": "markdown",
   "id": "053a26b3",
   "metadata": {},
   "source": [
    "#### 9. Faça um programa que imprima na tela apenas os números ímpares entre 1 e 50."
   ]
  },
  {
   "cell_type": "code",
   "execution_count": null,
   "id": "7d15cb44",
   "metadata": {},
   "outputs": [],
   "source": [
    "# números pares quando divididos por dois têm resto 0\n",
    "# números ímpares quando divididos por dois têm resto 1\n",
    "# o operador para calcular resto em Python é o %\n",
    "# em x = 8 % 3 a variavel x vai conter o valor do resto da divisao de 8 por 3, que eh 2\n",
    "\n",
    "for i in range(50):\n",
    "    if (i + 1) % 2 == 1:\n",
    "        print(i + 1)"
   ]
  },
  {
   "cell_type": "markdown",
   "id": "e3efa0fe",
   "metadata": {},
   "source": [
    "#### 10. Faça um programa que receba dois números inteiros e gere os números inteiros que estão no intervalo compreendido por eles."
   ]
  },
  {
   "cell_type": "code",
   "execution_count": null,
   "id": "09d760f5",
   "metadata": {},
   "outputs": [],
   "source": [
    "numero1 = int(input('Informe o primeiro número inteiro:'))\n",
    "numero2 = int(input('Informe o segundo número inteiro:'))\n",
    "\n",
    "if numero1 > numero2:\n",
    "    numero1 -= 1\n",
    "    while numero1 != numero2:\n",
    "        print(numero1)\n",
    "        numero1 -= 1\n",
    "elif numero2 > numero1:\n",
    "    numero2 -= 1\n",
    "    while numero1 != numero2:\n",
    "        print(numero2)\n",
    "        numero2 -= 1"
   ]
  },
  {
   "cell_type": "markdown",
   "id": "e0e334ca",
   "metadata": {},
   "source": [
    "#### 11. Altere o programa anterior para mostrar no final a soma dos números."
   ]
  },
  {
   "cell_type": "code",
   "execution_count": null,
   "id": "78c7b199",
   "metadata": {},
   "outputs": [],
   "source": [
    "numero1 = int(input('Informe o primeiro número inteiro:'))\n",
    "numero2 = int(input('Informe o segundo número inteiro:'))\n",
    "\n",
    "soma = 0\n",
    "if numero1 > numero2:\n",
    "    numero1 -= 1\n",
    "    while numero1 != numero2:\n",
    "        soma += numero1\n",
    "        numero1 -= 1\n",
    "elif numero2 > numero1:\n",
    "    numero2 -= 1\n",
    "    while numero1 != numero2:\n",
    "        soma += numero2\n",
    "        numero2 -= 1\n",
    "print(soma)"
   ]
  },
  {
   "cell_type": "markdown",
   "id": "299e8633",
   "metadata": {},
   "source": [
    "#### 12. Desenvolva um gerador de tabuada, capaz de gerar a tabuada de qualquer número inteiro entre 1 a 10. O usuário deve informar de qual numero ele deseja ver a tabuada. A saída deve ser conforme o exemplo abaixo:\n",
    "<pre>\n",
    "Tabuada de 5:\n",
    "5 X 1 = 5\n",
    "5 X 2 = 10\n",
    "...\n",
    "5 X 10 = 50\n",
    "</pre>"
   ]
  },
  {
   "cell_type": "code",
   "execution_count": null,
   "id": "4e1ed7c0",
   "metadata": {},
   "outputs": [],
   "source": [
    "numero = int(input('De qual número é a tabuada?'))\n",
    "\n",
    "print(f'Tabuada do {numero}:')\n",
    "for i in range(10):\n",
    "    print(f'{numero} x {i+1} = {numero*(i+1)}')"
   ]
  },
  {
   "cell_type": "markdown",
   "id": "af980d52",
   "metadata": {},
   "source": [
    "#### 13. Faça um programa que peça dois números, base e expoente, calcule e mostre o primeiro número elevado ao segundo número. Não utilize a função de potência da linguagem."
   ]
  },
  {
   "cell_type": "code",
   "execution_count": null,
   "id": "9214cc38",
   "metadata": {},
   "outputs": [],
   "source": [
    "base = float(input('Qual é a base?'))\n",
    "expoente = int(input('Qual é o expoente?')) # o expoente precisa ser inteiro\n",
    "valor = 1\n",
    "for _ in range(expoente):\n",
    "    valor = base * valor\n",
    "    \n",
    "print('O valor da potência é:', valor)"
   ]
  },
  {
   "cell_type": "markdown",
   "id": "7e2a6a61",
   "metadata": {},
   "source": [
    "#### 14. Faça um programa que peça 10 números inteiros, calcule e mostre a quantidade de números pares e a quantidade de números impares."
   ]
  },
  {
   "cell_type": "code",
   "execution_count": null,
   "id": "9c4797fb",
   "metadata": {},
   "outputs": [],
   "source": [
    "pares = 0\n",
    "impares = 0\n",
    "\n",
    "for i in range(10):\n",
    "    numero = int(input(f'Informe o {i+1}º número: '))\n",
    "    if numero % 2 == 0:\n",
    "        pares += 1\n",
    "    else:\n",
    "        impares += 1\n",
    "        \n",
    "print(f'{pares} pares e {impares} ímpares.')"
   ]
  },
  {
   "cell_type": "markdown",
   "id": "4dccf0af",
   "metadata": {},
   "source": [
    "#### 15. A série de Fibonacci é formada pela seqüência 1,1,2,3,5,8,13,21,34,55,... Faça um programa capaz de gerar a série até o n−ésimo termo.\n",
    "Veja aqui mais detalhes sobre a série de Fibonacci:\n",
    "\n",
    "https://pt.wikipedia.org/wiki/Sequ%C3%AAncia_de_Fibonacci"
   ]
  },
  {
   "cell_type": "code",
   "execution_count": null,
   "id": "510a2252",
   "metadata": {},
   "outputs": [],
   "source": [
    "a0 = 1 # termo 0\n",
    "a1 = 1 # termo 1\n",
    "n = 2 # termo atual\n",
    "\n",
    "nesimo_termo = int(input(f'Informe o até qual termo quer exibir (maior ou igual a 2): '))\n",
    "\n",
    "print(a0)\n",
    "print(a1)\n",
    "\n",
    "while n <= nesimo_termo:\n",
    "    novo_termo = a0 + a1\n",
    "    print(novo_termo)\n",
    "    a0 = a1\n",
    "    a1 = novo_termo\n",
    "    n += 1\n",
    "    "
   ]
  },
  {
   "cell_type": "markdown",
   "id": "078209e7",
   "metadata": {},
   "source": [
    "#### 16. A série de Fibonacci é formada pela seqüência 1,1,2,3,5,8,13,21,34,55,... Faça um programa que gere a série até que o valor seja maior que 500."
   ]
  },
  {
   "cell_type": "code",
   "execution_count": null,
   "id": "d2d173f8",
   "metadata": {},
   "outputs": [],
   "source": [
    "a0 = 1 # termo 0\n",
    "a1 = 1 # termo 1\n",
    "n = 2 # termo atual\n",
    "novo_termo = a0 + a1\n",
    "\n",
    "print(a0)\n",
    "print(a1)\n",
    "\n",
    "while novo_termo <= 500:\n",
    "    novo_termo = a0 + a1\n",
    "    print(novo_termo)\n",
    "    a0 = a1\n",
    "    a1 = novo_termo\n",
    "    n += 1\n",
    "    "
   ]
  },
  {
   "cell_type": "markdown",
   "id": "6ae39758",
   "metadata": {},
   "source": [
    "#### 17. Faça um programa que calcule o fatorial de um número inteiro fornecido pelo usuário. Ex.: 5!=5.4.3.2.1=120"
   ]
  },
  {
   "cell_type": "code",
   "execution_count": null,
   "id": "a0b9f80e",
   "metadata": {},
   "outputs": [],
   "source": [
    "numero = int(input(f'Informe o número: '))\n",
    "total = 1\n",
    "print(f'{numero}! = ', end='')\n",
    "for i in range(numero, 0, -1):\n",
    "    total *= i\n",
    "\n",
    "print(total)"
   ]
  },
  {
   "cell_type": "markdown",
   "id": "b1c0e191",
   "metadata": {},
   "source": [
    "#### 18. Faça um programa que, dado um conjunto de N números, determine o menor valor, o maior valor e a soma dos valores."
   ]
  },
  {
   "cell_type": "code",
   "execution_count": null,
   "id": "e6040ca2",
   "metadata": {},
   "outputs": [],
   "source": [
    "qtde = int(input(f'Informe quantos números serão: '))\n",
    "\n",
    "soma = 0\n",
    "maior = float('-inf')\n",
    "menor = float('inf')\n",
    "\n",
    "for i in range(qtde):\n",
    "    numero = float(input(f'Informe o {i+1}º número: '))\n",
    "    soma += numero\n",
    "    if numero > maior:\n",
    "        maior = numero\n",
    "    if numero < menor:\n",
    "        menor = numero\n",
    "\n",
    "print('Soma:', soma)\n",
    "print('Maior:', maior)\n",
    "print('Menor:', menor)"
   ]
  },
  {
   "cell_type": "markdown",
   "id": "02478121",
   "metadata": {},
   "source": [
    "#### 19. Altere o programa anterior para que ele aceite apenas números entre 0 e 1000."
   ]
  },
  {
   "cell_type": "code",
   "execution_count": null,
   "id": "7998b01a",
   "metadata": {},
   "outputs": [],
   "source": [
    "qtde = int(input(f'Informe quantos números serão: '))\n",
    "\n",
    "soma = 0\n",
    "maior = float('-inf')\n",
    "menor = float('inf')\n",
    "\n",
    "for i in range(qtde):\n",
    "    numero = float(input(f'Informe o {i+1}º número: '))\n",
    "    while not 0 <= numero <= 1000:\n",
    "        print('Número inválido!')\n",
    "        numero = float(input(f'Informe um número entre 0 e 1000: '))\n",
    "    soma += numero\n",
    "    if numero > maior:\n",
    "        maior = numero\n",
    "    if numero < menor:\n",
    "        menor = numero\n",
    "\n",
    "print('Soma:', soma)\n",
    "print('Maior:', maior)\n",
    "print('Menor:', menor)"
   ]
  },
  {
   "cell_type": "markdown",
   "id": "535d355a",
   "metadata": {},
   "source": [
    "#### 20. Altere o programa de cálculo do fatorial, permitindo ao usuário calcular o fatorial várias vezes e limitando o fatorial a números inteiros positivos e menores que 16."
   ]
  },
  {
   "cell_type": "code",
   "execution_count": null,
   "id": "9c2cc878",
   "metadata": {},
   "outputs": [],
   "source": [
    "novamente = 'S'\n",
    "\n",
    "while novamente == 'S':\n",
    "    numero = int(input(f'Informe o número: '))\n",
    "    while not 0 < numero < 16:\n",
    "        numero = int(input(f'Informe um número inteiro, positivo e menor que 16: '))\n",
    "    total = 1\n",
    "    print(f'{numero}! = ', end='')\n",
    "    for i in range(numero, 0, -1):\n",
    "        total *= i\n",
    "\n",
    "    print(total)\n",
    "    \n",
    "    novamente = input(f'Deseja calcular fatorial novamente? Tecle S para continuar, o qualquer outra tecla para sair: ')"
   ]
  },
  {
   "cell_type": "markdown",
   "id": "6dc4a4a0",
   "metadata": {},
   "source": [
    "#### 21. Faça um programa que peça um número inteiro e determine se ele é ou não um número primo. Um número primo é aquele que é divisível somente por ele mesmo e por 1."
   ]
  },
  {
   "cell_type": "code",
   "execution_count": null,
   "id": "d0b5fa23",
   "metadata": {},
   "outputs": [],
   "source": [
    "numero = int(input(f'Informe o número: '))\n",
    "primo = True\n",
    "\n",
    "for i in range(1, numero):\n",
    "    if numero % i == 0 and i != 1 and i != numero:\n",
    "        primo = False\n",
    "        break\n",
    "\n",
    "if primo:\n",
    "    print(f'O número {numero} é primo')\n",
    "else:\n",
    "    print(f'O número {numero} não é primo')"
   ]
  },
  {
   "cell_type": "markdown",
   "id": "dcc9f5dc",
   "metadata": {},
   "source": [
    "#### 22. Altere o programa de cálculo dos números primos, informando, caso o número não seja primo, por quais número ele é divisível."
   ]
  },
  {
   "cell_type": "code",
   "execution_count": null,
   "id": "a30868cc",
   "metadata": {},
   "outputs": [],
   "source": [
    "numero = int(input(f'Informe o número: '))\n",
    "primo = True\n",
    "divisiveis = []\n",
    "for i in range(1, numero):\n",
    "    if numero % i == 0 and i != 1 and i != numero:\n",
    "        primo = False\n",
    "        divisiveis.append(i)\n",
    "\n",
    "if primo:\n",
    "    print(f'O número {numero} é primo')\n",
    "else:\n",
    "    print(f'O número {numero} não é primo e é divisível pelos seguintes números: {divisiveis}')"
   ]
  },
  {
   "cell_type": "markdown",
   "id": "fb1948fe",
   "metadata": {},
   "source": [
    "#### 23. Faça um programa que mostre todos os primos entre 1 e N sendo N um número inteiro fornecido pelo usuário. O programa deverá mostrar também o número de divisões que ele executou para encontrar os números primos. Serão avaliados o funcionamento, o estilo e o número de testes (divisões) executados."
   ]
  },
  {
   "cell_type": "code",
   "execution_count": null,
   "id": "3c44f2cd",
   "metadata": {},
   "outputs": [],
   "source": [
    "numero = int(input(f'Informe o número: '))\n",
    "divisoes = 0\n",
    "for j in range(1, numero + 1):\n",
    "    primo = True\n",
    "    \n",
    "    for i in range(1, j):\n",
    "        divisoes += 1\n",
    "        if j % i == 0 and i != 1 and i != numero:\n",
    "            primo = False\n",
    "            break\n",
    "\n",
    "    if primo:\n",
    "        print(f'O número {j} é primo, foram necessárias {divisoes} divisões para encontrá-lo.')\n",
    "        divisoes = 0"
   ]
  },
  {
   "cell_type": "markdown",
   "id": "4e4b2103",
   "metadata": {},
   "source": [
    "#### 24. Faça um programa que calcule o mostre a média aritmética de N notas."
   ]
  },
  {
   "cell_type": "code",
   "execution_count": null,
   "id": "2bc2b99e",
   "metadata": {},
   "outputs": [],
   "source": [
    "qtde = int(input(f'Informe quantas notas serão: '))\n",
    "\n",
    "total = 0\n",
    "\n",
    "for i in range(qtde):\n",
    "    nota = float(input(f'Informe a {i+1}ª nota: '))\n",
    "    total += nota\n",
    "\n",
    "print('A média foi:', total/qtde)"
   ]
  },
  {
   "cell_type": "markdown",
   "id": "703f3c4d",
   "metadata": {},
   "source": [
    "#### 25. Faça um programa que peça para n pessoas a sua idade, ao final o programa devera verificar se a média de idade da turma varia entre 0 e 25,26 e 60 e maior que 60; e então, dizer se a turma é jovem, adulta ou idosa, conforme a média calculada."
   ]
  },
  {
   "cell_type": "code",
   "execution_count": null,
   "id": "b56a85de",
   "metadata": {},
   "outputs": [],
   "source": [
    "qtde = int(input(f'Informe quantas pessoas serão: '))\n",
    "\n",
    "total = 0\n",
    "\n",
    "for i in range(qtde):\n",
    "    idade = float(input(f'Informe a {i+1}ª idade: '))\n",
    "    total += idade\n",
    "\n",
    "media = total/qtde\n",
    "\n",
    "if 0 <= media <= 25:\n",
    "    print('A turma é jovem')\n",
    "elif 25 < media <= 60:\n",
    "    print('A turma é adulta')\n",
    "elif 60 < media:\n",
    "    print('A turma é idosa')"
   ]
  },
  {
   "cell_type": "markdown",
   "id": "aad21b98",
   "metadata": {},
   "source": [
    "#### 26. Numa eleição existem três candidatos. Faça um programa que peça o número total de eleitores. Peça para cada eleitor votar e ao final mostrar o número de votos de cada candidato."
   ]
  },
  {
   "cell_type": "code",
   "execution_count": null,
   "id": "84aa7a93",
   "metadata": {},
   "outputs": [],
   "source": [
    "qtde = int(input(f'Informe a quatidade de eleitores: '))\n",
    "\n",
    "candidato1 = 0\n",
    "candidato2 = 0\n",
    "candidato3 = 0\n",
    "\n",
    "for i in range(qtde):\n",
    "    candidato = int(input(f'Informe o voto do primeiro eleitor {i+1}. O eleitor pode votar nos candidatos 1, 2 ou 3: '))\n",
    "    if candidato == 1:\n",
    "        candidato1 += 1\n",
    "    elif candidato == 2:\n",
    "        candidato2 += 1\n",
    "    elif candidato == 3:\n",
    "        candidato3 += 1\n",
    "        \n",
    "print('Votos do candidato 1:', candidato1)\n",
    "print('Votos do candidato 2:', candidato2)\n",
    "print('Votos do candidato 3:', candidato3)"
   ]
  },
  {
   "cell_type": "markdown",
   "id": "8b2a149f",
   "metadata": {},
   "source": [
    "#### 27. Faça um programa que calcule o número médio de alunos por turma. Para isto, peça a quantidade de turmas e a quantidade de alunos para cada turma. As turmas não podem ter mais de 40 alunos."
   ]
  },
  {
   "cell_type": "code",
   "execution_count": null,
   "id": "76647e85",
   "metadata": {},
   "outputs": [],
   "source": [
    "qtde = int(input(f'Informe a quatidade de turmas: '))\n",
    "total = 0\n",
    "\n",
    "for i in range(qtde):\n",
    "    turma = int(input(f'Informe a quantidade de alunos na {i+1}ª turma: '))\n",
    "    while turma > 40:\n",
    "        print('Erro! As turmas podem ter no máximo 40 alunos.')\n",
    "        turma = int(input(f'Informe a quantidade de alunos na {i+1}ª turma: '))\n",
    "    total += turma\n",
    "\n",
    "print(f'A média é de {total/qtde} alunos por turma')"
   ]
  },
  {
   "cell_type": "markdown",
   "id": "6e306453",
   "metadata": {},
   "source": [
    "#### 28. Faça um programa que calcule o valor total investido por um colecionador em sua coleção de CDs e o valor médio gasto em cada um deles. O usuário deverá informar a quantidade de CDs e o valor para em cada um."
   ]
  },
  {
   "cell_type": "code",
   "execution_count": null,
   "id": "6b7fa4a2",
   "metadata": {},
   "outputs": [],
   "source": [
    "qtde = int(input(f'Informe a quatidade de CDs: '))\n",
    "total = 0\n",
    "\n",
    "for i in range(qtde):\n",
    "    valor = int(input(f'Informe o preço do {i+1}º CD: '))\n",
    "    total += valor\n",
    "\n",
    "print(f'A média é de R$ {total/qtde} por CD')"
   ]
  },
  {
   "cell_type": "markdown",
   "id": "f19c8d86",
   "metadata": {},
   "source": [
    "#### 29. O Sr. Manoel Joaquim possui uma grande loja de artigos de R\\\\$ 1,99, com cerca de 10 caixas. Para agilizar o cálculo de quanto cada cliente deve pagar ele desenvolveu um tabela que contém o número de itens que o cliente comprou e ao lado o valor da conta. Desta forma a atendente do caixa precisa apenas contar quantos itens o cliente está levando e olhar na tabela de preços. Você foi contratado para desenvolver o programa que monta esta tabela de preços, que conterá os preços de 1 até 50 produtos, conforme o exemplo abaixo:\n",
    "<pre>\n",
    "Lojas Quase Dois - Tabela de preços\n",
    "1 - R$ 1.99\n",
    "2 - R$ 3.98\n",
    "...\n",
    "50 - R$ 99.50\n",
    "</pre>"
   ]
  },
  {
   "cell_type": "code",
   "execution_count": null,
   "id": "fccd9251",
   "metadata": {},
   "outputs": [],
   "source": [
    "print('Lojas Quase Dois - Tabela de preços')\n",
    "for i in range(50):\n",
    "    print(f'{i+1} - R$ {(i+1)*1.99:.2f}')"
   ]
  },
  {
   "cell_type": "markdown",
   "id": "27e0d498",
   "metadata": {},
   "source": [
    "#### 30. O Sr. Manoel Joaquim acaba de adquirir uma panificadora e pretende implantar a metodologia da tabelinha, que já é um sucesso na sua loja de 1,99. Você foi contratado para desenvolver o programa que monta a tabela de preços de pães, de 1 até 50 pães, a partir do preço do pão informado pelo usuário, conforme o exemplo abaixo:\n",
    "<pre>\n",
    "Preço do pão: R$ 0.18\n",
    "Panificadora Pão de Ontem - Tabela de preços\n",
    "1 - R$ 0.18\n",
    "2 - R$ 0.36\n",
    "...\n",
    "50 - R$ 9.00\n",
    "</pre>"
   ]
  },
  {
   "cell_type": "code",
   "execution_count": null,
   "id": "9af14cbc",
   "metadata": {
    "scrolled": true
   },
   "outputs": [],
   "source": [
    "preco_pao = float(input('Preço do pão: R$ '))\n",
    "print('Panificadora Pão de Ontem - Tabela de preços')\n",
    "for i in range(50):\n",
    "    print(f'{i+1} - R$ {(i+1)*preco_pao:.2f}')"
   ]
  },
  {
   "cell_type": "markdown",
   "id": "59ba422f",
   "metadata": {},
   "source": [
    "#### 31. O Sr. Manoel Joaquim expandiu seus negócios para além dos negócios de 1,99 e agora possui uma loja de conveniências. Faça um programa que implemente uma caixa registradora rudimentar. O programa deverá receber um número desconhecido de valores referentes aos preços das mercadorias. Um valor zero deve ser informado pelo operador para indicar o final da compra. O programa deve então mostrar o total da compra e perguntar o valor em dinheiro que o cliente forneceu, para então calcular e mostrar o valor do troco. Após esta operação, o programa deverá voltar ao ponto inicial, para registrar a próxima compra. A saída deve ser conforme o exemplo abaixo:\n",
    "<pre>\n",
    "Lojas Tabajara \n",
    "Produto 1: R$ 2.20\n",
    "Produto 2: R$ 5.80\n",
    "Produto 3: R$ 0\n",
    "Total: R$ 8.00\n",
    "Dinheiro: R$ 20.00\n",
    "Troco: R$ 12.00\n",
    "...\n",
    "</pre>"
   ]
  },
  {
   "cell_type": "code",
   "execution_count": null,
   "id": "a702cdb7",
   "metadata": {},
   "outputs": [],
   "source": [
    "print('Lojas Tabajara')\n",
    "\n",
    "while True:\n",
    "    produto = 1\n",
    "    i = 0\n",
    "    total = 0\n",
    "    while produto != 0:\n",
    "        produto = float(input(f'Produto {i+1}: R$ '))\n",
    "        total += produto\n",
    "        i += 1\n",
    "    print('Total: R$', total)\n",
    "    dinheiro = float(input(f'Dinheiro: R$ '))\n",
    "    print('Troco: R$', dinheiro - total)"
   ]
  },
  {
   "cell_type": "markdown",
   "id": "8fa34a89",
   "metadata": {},
   "source": [
    "#### 32. Faça um programa que calcule o fatorial de um número inteiro fornecido pelo usuário. Ex.: 5!=5.4.3.2.1=120. A saída deve ser conforme o exemplo abaixo:\n",
    "<pre>\n",
    "Fatorial de: 5\n",
    "5! =  5 . 4 . 3 . 2 . 1 = 120\n",
    "</pre>"
   ]
  },
  {
   "cell_type": "code",
   "execution_count": null,
   "id": "ee12d8ad",
   "metadata": {},
   "outputs": [],
   "source": [
    "numero = int(input(f'Fatorial de: '))\n",
    "print(f'{numero}! = ', end='')\n",
    "total = 1\n",
    "for i in range(numero, 0, -1):\n",
    "    total *= i\n",
    "    if i == 1:\n",
    "        print(1, end='')\n",
    "    else:\n",
    "        print(i, '. ', end='')\n",
    "print(' =', total)"
   ]
  },
  {
   "cell_type": "markdown",
   "id": "580224d8",
   "metadata": {},
   "source": [
    "#### 33. O Departamento Estadual de Meteorologia lhe contratou para desenvolver um programa que leia as um conjunto indeterminado de temperaturas, e informe ao final a menor e a maior temperaturas informadas, bem como a média das temperaturas."
   ]
  },
  {
   "cell_type": "code",
   "execution_count": null,
   "id": "1e11031a",
   "metadata": {},
   "outputs": [],
   "source": [
    "soma = 0\n",
    "contador = 0\n",
    "maior = float('-inf')\n",
    "menor = float('inf')\n",
    "\n",
    "continuar = 'S'\n",
    "\n",
    "while continuar == 'S':\n",
    "    temperatura = float(input('Informe a temperatura: '))\n",
    "    if temperatura > maior:\n",
    "        maior = temperatura\n",
    "    if temperatura < menor:\n",
    "        menor = temperatura\n",
    "    soma += temperatura\n",
    "    contador += 1\n",
    "    continuar = input(f'Deseja continuar? Tecle S para continuar, o qualquer outra tecla para sair: ')\n",
    "\n",
    "print('Maior:', maior)\n",
    "print('Menor:', menor)\n",
    "print('Média:', soma/contador)"
   ]
  },
  {
   "cell_type": "markdown",
   "id": "dd0a6397",
   "metadata": {},
   "source": [
    "#### 34. Os números primos possuem várias aplicações dentro da Computação, por exemplo na Criptografia. Um número primo é aquele que é divisível apenas por um e por ele mesmo. Faça um programa que peça um número inteiro e determine se ele é ou não um número primo."
   ]
  },
  {
   "cell_type": "code",
   "execution_count": null,
   "id": "1e7c6557",
   "metadata": {},
   "outputs": [],
   "source": [
    "numero = int(input(f'Informe o número: '))\n",
    "primo = True\n",
    "\n",
    "for i in range(1, numero):\n",
    "    if numero % i == 0 and i != 1 and i != numero:\n",
    "        primo = False\n",
    "        break\n",
    "\n",
    "if primo:\n",
    "    print(f'O número {numero} é primo')\n",
    "else:\n",
    "    print(f'O número {numero} não é primo')"
   ]
  },
  {
   "cell_type": "markdown",
   "id": "68f2690e",
   "metadata": {},
   "source": [
    "#### 35. Encontrar números primos é uma tarefa difícil. Faça um programa que gera uma lista dos números primos existentes entre 1 e um número inteiro informado pelo usuário."
   ]
  },
  {
   "cell_type": "code",
   "execution_count": null,
   "id": "e01d77f6",
   "metadata": {},
   "outputs": [],
   "source": [
    "numero = int(input(f'Informe o número: '))\n",
    "for j in range(1, numero + 1):\n",
    "    primo = True\n",
    "    \n",
    "    for i in range(1, j):\n",
    "        if j % i == 0 and i != 1 and i != numero:\n",
    "            primo = False\n",
    "            break\n",
    "\n",
    "    if primo:\n",
    "        print(f'O número {j} é primo.')"
   ]
  },
  {
   "cell_type": "markdown",
   "id": "420d57ec",
   "metadata": {},
   "source": [
    "#### 36. Desenvolva um programa que faça a tabuada de um número qualquer inteiro que será digitado pelo usuário, mas a tabuada não deve necessariamente iniciar em 1 e terminar em 10, o valor inicial e final devem ser informados também pelo usuário, conforme exemplo abaixo:\n",
    "<pre>\n",
    "Montar a tabuada de: 5\n",
    "Começar por: 4\n",
    "Terminar em: 7\n",
    "\n",
    "Vou montar a tabuada de 5 começando em 4 e terminando em 7:\n",
    "5 X 4 = 20\n",
    "5 X 5 = 25\n",
    "5 X 6 = 30\n",
    "5 X 7 = 35\n",
    "Obs: Você deve verificar se o usuário não digitou o final menor que o inicial.\n",
    "</pre>"
   ]
  },
  {
   "cell_type": "code",
   "execution_count": null,
   "id": "69c633c8",
   "metadata": {},
   "outputs": [],
   "source": [
    "numero = int(input(f'Montar a tabuada de: '))\n",
    "comeco = int(input(f'Começar por: '))\n",
    "final = int(input(f'Terminar em: '))\n",
    "\n",
    "if final < comeco:\n",
    "    print('O final é menor que o começo')\n",
    "else:\n",
    "    for i in range(comeco, final+1):\n",
    "        print(f'{numero} x {i} = {numero * i}')"
   ]
  },
  {
   "cell_type": "markdown",
   "id": "6be57391",
   "metadata": {},
   "source": [
    "#### 37. Uma academia deseja fazer um senso entre seus clientes para descobrir o mais alto, o mais baixo, a mais gordo e o mais magro, para isto você deve fazer um programa que pergunte a cada um dos clientes da academia seu código, sua altura e seu peso. O final da digitação de dados deve ser dada quando o usuário digitar 0 (zero) no campo código. Ao encerrar o programa também deve ser informados os códigos e valores do clente mais alto, do mais baixo, do mais gordo e do mais magro, além da média das alturas e dos pesos dos clientes"
   ]
  },
  {
   "cell_type": "code",
   "execution_count": null,
   "id": "1b093eef",
   "metadata": {},
   "outputs": [],
   "source": [
    "maior_H = (0, float('-inf'), 0) # (codigo, altura, peso)\n",
    "menor_H = (0, float('inf'), 0)\n",
    "maior_P = (0, 0, float('-inf'))\n",
    "menor_P = (0, 0, float('inf'))\n",
    "soma_H = 0\n",
    "soma_P = 0\n",
    "contador = 0\n",
    "codigo = -1\n",
    "\n",
    "while codigo != 0:\n",
    "    codigo = int(input('Código: '))\n",
    "    if codigo == 0:\n",
    "        break\n",
    "    H = float(input('Altura (m): '))\n",
    "    P = float(input('Peso (kg): '))\n",
    "    cliente = (codigo, H, P)\n",
    "    if H > maior_H[1]:\n",
    "        maior_H = cliente\n",
    "    if H < menor_H[1]:\n",
    "        menor_H = cliente\n",
    "    if P > maior_P[2]:\n",
    "        maior_P = cliente\n",
    "    if P < menor_P[2]:\n",
    "        menor_P = cliente\n",
    "    soma_H += H\n",
    "    soma_P += P\n",
    "    contador += 1\n",
    "print('Maior:', maior_H)\n",
    "print('Menor:', menor_H)\n",
    "print('Mais pesado:', maior_P)\n",
    "print('Mais leve:', menor_P)"
   ]
  },
  {
   "cell_type": "markdown",
   "id": "6cd19c52",
   "metadata": {},
   "source": [
    "#### 38. Um funcionário de uma empresa recebe aumento salarial anualmente: Sabe-se que:\n",
    "<pre>\n",
    "Esse funcionário foi contratado em 1995, com salário inicial de R$ 1.000,00;\n",
    "Em 1996 recebeu aumento de 1,5% sobre seu salário inicial;\n",
    "A partir de 1997 (inclusive), os aumentos salariais sempre correspondem ao dobro do percentual do ano anterior. Faça um programa que determine o salário desse funcionário em 2003. \n",
    "</pre>"
   ]
  },
  {
   "cell_type": "code",
   "execution_count": null,
   "id": "98a4811b",
   "metadata": {},
   "outputs": [],
   "source": [
    "salario = 1000 * 1.015\n",
    "porcentagem = 0.015\n",
    "\n",
    "for i in range(1997, 2004):\n",
    "    porcentagem *= 2\n",
    "    salario *= (1 + porcentagem)\n",
    "\n",
    "print('O salário em 2003 era R$ {:.2f}'.format(salario))"
   ]
  },
  {
   "cell_type": "markdown",
   "id": "a94bbc25",
   "metadata": {},
   "source": [
    "#### Após concluir isto, altere o programa permitindo que o usuário digite o salário inicial do funcionário."
   ]
  },
  {
   "cell_type": "code",
   "execution_count": null,
   "id": "616def29",
   "metadata": {},
   "outputs": [],
   "source": [
    "salario = float(input('Informe o salário inicial: R$ '))\n",
    "salario = salario * 1.015\n",
    "porcentagem = 0.015\n",
    "\n",
    "for i in range(1997, 2004):\n",
    "    porcentagem *= 2\n",
    "    salario *= (1 + porcentagem)\n",
    "\n",
    "print('O salário em 2003 era R$ {:.2f}'.format(salario))"
   ]
  },
  {
   "cell_type": "markdown",
   "id": "0fe02503",
   "metadata": {},
   "source": [
    "#### 39. Faça um programa que leia dez conjuntos de dois valores, o primeiro representando o número do aluno e o segundo representando a sua altura em centímetros. Encontre o aluno mais alto e o mais baixo. Mostre o número do aluno mais alto e o número do aluno mais baixo, junto com suas alturas."
   ]
  },
  {
   "cell_type": "code",
   "execution_count": null,
   "id": "b887f95c",
   "metadata": {},
   "outputs": [],
   "source": [
    "maior_H = float('-inf')\n",
    "c_maior_H = ''\n",
    "menor_H = float('inf')\n",
    "c_menor_H = ''\n",
    "for _ in range(10):\n",
    "    numero = int(input('Número do aluno: '))\n",
    "    H = float(input('Altura (m): '))\n",
    "    if H > maior_H:\n",
    "        maior_H = H\n",
    "        c_maior_H = numero\n",
    "    if H < menor_H:\n",
    "        menor_H = H\n",
    "        c_menor_H = numero\n",
    "\n",
    "print('O aluno', c_maior_H, 'é o mais alto com', maior_H, 'm')\n",
    "print('O aluno', c_menor_H, 'é o mais baixo com', menor_H, 'm')"
   ]
  },
  {
   "cell_type": "markdown",
   "id": "61a05405",
   "metadata": {},
   "source": [
    "#### 40. Foi feita uma estatística em cinco cidades brasileiras para coletar dados sobre acidentes de trânsito. Foram obtidos os seguintes dados:\n",
    "<pre>\n",
    "Código da cidade;\n",
    "Número de veículos de passeio (em 1999);\n",
    "Número de acidentes de trânsito com vítimas (em 1999). Deseja-se saber:\n",
    "Qual o maior e menor índice de acidentes de transito e a que cidade pertence;\n",
    "Qual a média de veículos nas cinco cidades juntas;\n",
    "Qual a média de acidentes de trânsito nas cidades com menos de 2.000 veículos de passeio.\n",
    "</pre>"
   ]
  },
  {
   "cell_type": "code",
   "execution_count": null,
   "id": "4e0eb04c",
   "metadata": {},
   "outputs": [],
   "source": [
    "maior = float('-inf')\n",
    "c_maior = ''\n",
    "menor = float('inf')\n",
    "c_menor = ''\n",
    "\n",
    "soma = 0\n",
    "soma_2000 = 0\n",
    "conta = 0\n",
    "conta_2000 = 0\n",
    "\n",
    "for _ in range(3):\n",
    "    codigo = int(input('Código da cidade: '))\n",
    "    veiculos = int(input('Número de veículos de passeio (em 1999): '))\n",
    "    acidentes = int(input('Número de acidentes de trânsito com vítimas (em 1999): '))\n",
    "    indice = acidentes/veiculos\n",
    "    \n",
    "    if indice > maior:\n",
    "        maior = indice\n",
    "        c_maior = codigo\n",
    "    if indice < menor:\n",
    "        menor = indice\n",
    "        c_menor = codigo\n",
    "    soma += veiculos\n",
    "    conta += 1\n",
    "    if veiculos < 2000:\n",
    "        soma_2000 += acidentes\n",
    "        conta_2000 += 1\n",
    "\n",
    "print('Maior índice:', maior, 'acidente/veículo na cidade', c_maior)\n",
    "print('Menor índice:', menor, 'acidente/veículo na cidade', c_menor)\n",
    "print('Média de veículos:', soma/conta)\n",
    "print('Média acidentes com cidades de menos de 2000 veículos:', soma_2000/conta_2000)"
   ]
  },
  {
   "cell_type": "markdown",
   "id": "e190d098",
   "metadata": {},
   "source": [
    "#### 41. Faça um programa que receba o valor de uma dívida e mostre uma tabela com os seguintes dados: valor da dívida, valor dos juros, quantidade de parcelas e valor da parcela.\n",
    "<pre>\n",
    "Os juros e a quantidade de parcelas seguem a tabela abaixo:\n",
    "Quantidade de Parcelas  % de Juros sobre o valor inicial da dívida\n",
    "1       0\n",
    "3       10\n",
    "6       15\n",
    "9       20\n",
    "12      25\n",
    "Exemplo de saída do programa:\n",
    "Valor da Dívida Valor dos Juros Quantidade de Parcelas  Valor da Parcela\n",
    "R$ 1.000,00     0               1                       R$  1.000,00\n",
    "R$ 1.100,00     100             3                       R$    366,00\n",
    "R$ 1.150,00     150             6                       R$    191,67\n",
    "</pre>"
   ]
  },
  {
   "cell_type": "code",
   "execution_count": null,
   "id": "611ca0ad",
   "metadata": {},
   "outputs": [],
   "source": [
    "divida = float(input('Valor da dívida: '))\n",
    "print('Valor da Dívida\\tValor dos Juros\\tQuantidade de Parcelas\\tValor da Parcela')\n",
    "print(f'R$ {divida:.2f}\\t0\\t\\t1\\t\\t\\tR$ {divida:.2f}')\n",
    "print(f'R$ {divida * 1.1:.2f}\\t{divida * 0.1:.2f}\\t\\t3\\t\\t\\tR$ {divida * 1.1/3:.2f}')\n",
    "print(f'R$ {divida * 1.15:.2f}\\t{divida * 0.15:.2f}\\t\\t6\\t\\t\\tR$ {divida * 1.15/6:.2f}')\n",
    "print(f'R$ {divida * 1.2:.2f}\\t{divida * 0.2:.2f}\\t\\t20\\t\\t\\tR$ {divida * 1.2/9:.2f}')\n",
    "print(f'R$ {divida * 1.25:.2f}\\t{divida * 0.25:.2f}\\t\\t25\\t\\t\\tR$ {divida * 1.25/12:.2f}')"
   ]
  },
  {
   "cell_type": "markdown",
   "id": "2558e6a3",
   "metadata": {},
   "source": [
    "#### 42. Faça um programa que leia uma quantidade indeterminada de números positivos e conte quantos deles estão nos seguintes intervalos: [0-25], [26-50], [51-75] e [76-100]. A entrada de dados deverá terminar quando for lido um número negativo."
   ]
  },
  {
   "cell_type": "code",
   "execution_count": null,
   "id": "582108a3",
   "metadata": {},
   "outputs": [],
   "source": [
    "i25 = i50 = i75 = i100 = 0\n",
    "valor = 0\n",
    "while not valor < 0:\n",
    "    valor = int(input('Informe o número: '))\n",
    "    if 0 <= valor <= 25:\n",
    "        i25 += 1\n",
    "    elif 26 <= valor <= 50:\n",
    "        i50 += 1\n",
    "    elif 51 <= valor <= 75:\n",
    "        i75 += 1\n",
    "    elif 76 <= valor <= 100:\n",
    "        i100 += 1\n",
    "\n",
    "print(f'{i25} números no intervalo [0-25]')\n",
    "print(f'{i50} números no intervalo [26-50]')\n",
    "print(f'{i75} números no intervalo [51-75]')\n",
    "print(f'{i100} números no intervalo [76-100]')"
   ]
  },
  {
   "cell_type": "markdown",
   "id": "227928d1",
   "metadata": {},
   "source": [
    "#### 43. O cardápio de uma lanchonete é o seguinte:\n",
    "<pre>\n",
    "Especificação   Código  Preço\n",
    "Cachorro Quente 100     R$ 1,20\n",
    "Bauru Simples   101     R$ 1,30\n",
    "Bauru com ovo   102     R$ 1,50\n",
    "Hambúrguer      103     R$ 1,20\n",
    "Cheeseburguer   104     R$ 1,30\n",
    "Refrigerante    105     R$ 1,00\n",
    "Faça um programa que leia o código dos itens pedidos e as quantidades desejadas. Calcule e mostre o valor a ser pago por item (preço * quantidade) e o total geral do pedido. Considere que o cliente deve informar quando o pedido deve ser encerrado.\n",
    "</pre>"
   ]
  },
  {
   "cell_type": "code",
   "execution_count": null,
   "id": "8a784b86",
   "metadata": {},
   "outputs": [],
   "source": [
    "total = 0\n",
    "codigo = input('Informe o código do produto, caso deseje encerrar digite \"encerrar\": ')\n",
    "while codigo != 'encerrar':\n",
    "    qtde = int(input('Informe a quantidade: '))\n",
    "    if codigo == '100':\n",
    "        total += 1.2 * qtde\n",
    "    elif codigo == '101':\n",
    "        total += 1.3 * qtde\n",
    "    elif codigo == '102':\n",
    "        total += 1.5 * qtde\n",
    "    elif codigo == '103':\n",
    "        total += 1.2 * qtde\n",
    "    elif codigo == '104':\n",
    "        total += 1.3 * qtde\n",
    "    elif codigo == '105':\n",
    "        total += 1 * qtde\n",
    "        \n",
    "    codigo = input('Informe o código do produto, caso deseje encerrar digite \"encerrar\": ')\n",
    "\n",
    "print('O total a ser pago é: R$ ', total)"
   ]
  },
  {
   "cell_type": "markdown",
   "id": "78ab4c9a",
   "metadata": {},
   "source": [
    "#### 44. Em uma eleição presidencial existem quatro candidatos. Os votos são informados por meio de código. Os códigos utilizados são:\n",
    "<pre>\n",
    "1, 2, 3, 4  - Votos para os respectivos candidatos \n",
    "(você deve montar a tabela ex: 1 - Jose/ 2- João/etc)\n",
    "5 - Voto Nulo\n",
    "6 - Voto em Branco\n",
    "Faça um programa que calcule e mostre:\n",
    "O total de votos para cada candidato;\n",
    "O total de votos nulos;\n",
    "O total de votos em branco;\n",
    "A percentagem de votos nulos sobre o total de votos;\n",
    "A percentagem de votos em branco sobre o total de votos. Para finalizar o conjunto de votos tem-se o valor zero.\n",
    "</pre>"
   ]
  },
  {
   "cell_type": "code",
   "execution_count": null,
   "id": "77a21323",
   "metadata": {},
   "outputs": [],
   "source": [
    "c1 = c2 = c3 = c4 = c5 = c6 = 0\n",
    "\n",
    "for i in range(6):\n",
    "    votos = int(input(f'Informe a quantidade de votos no candidato {i}: '))\n",
    "    if i == 0:\n",
    "        c1 += votos\n",
    "    elif i == 1:\n",
    "        c2 += votos\n",
    "    elif i == 2:\n",
    "        c3 += votos\n",
    "    elif i == 3:\n",
    "        c4 += votos\n",
    "    elif i == 4:\n",
    "        c5 += votos\n",
    "    elif i == 5:\n",
    "        c6 += votos\n",
    "\n",
    "print('Total de votos do candidato 1:', c1)\n",
    "print('Total de votos do candidato 2:', c2)\n",
    "print('Total de votos do candidato 3:', c3)\n",
    "print('Total de votos do candidato 4:', c4)\n",
    "print('Total de votos nulos:', c5)\n",
    "print('Total de votos em branco:', c6)\n",
    "print('Percentagem de votos nulos sobre o total de votos:', c5/(c1+c2+c3+c4+c5+c6))\n",
    "print('Percentagem de votos em branco sobre o total de votos:', c6/(c1+c2+c3+c4+c5+c6))\n"
   ]
  },
  {
   "cell_type": "markdown",
   "id": "c7459718",
   "metadata": {},
   "source": [
    "#### 45. Desenvolver um programa para verificar a nota do aluno em uma prova com 10 questões, o programa deve perguntar ao aluno a resposta de cada questão e ao final comparar com o gabarito da prova e assim calcular o total de acertos e a nota (atribuir 1 ponto por resposta certa). Após cada aluno utilizar o sistema deve ser feita uma pergunta se outro aluno vai utilizar o sistema. Após todos os alunos terem respondido informar:\n",
    "<pre>\n",
    "Maior e Menor Acerto;\n",
    "Total de Alunos que utilizaram o sistema;\n",
    "A Média das Notas da Turma.\n",
    "Gabarito da Prova:\n",
    "\n",
    "01 - A\n",
    "02 - B\n",
    "03 - C\n",
    "04 - D\n",
    "05 - E\n",
    "06 - E\n",
    "07 - D\n",
    "08 - C\n",
    "09 - B\n",
    "10 - A\n",
    "Após concluir isto você poderia incrementar o programa permitindo que o professor digite o gabarito da prova antes dos alunos usarem o programa.\n",
    "</pre>"
   ]
  },
  {
   "cell_type": "code",
   "execution_count": null,
   "id": "63e96bde",
   "metadata": {},
   "outputs": [],
   "source": [
    "gabarito = []\n",
    "contador = 0\n",
    "maior = -1000 # não é necessário infinito aqui porque as notas só vão até 10, então 1000 e -1000 é mais que o suficiente\n",
    "menor = 1000\n",
    "total = 0\n",
    "for i in range(10):\n",
    "    letra = input(f'Preencha o gabarito da questão {i+1}: ')\n",
    "    gabarito.append(letra)\n",
    "\n",
    "continuar = 'S'\n",
    "while continuar == 'S':\n",
    "    aluno = []\n",
    "    contador += 1\n",
    "    nota = 0\n",
    "    for i in range(10):\n",
    "        letra = input(f'Preencha a escolha do aluno na questão {i+1}: ')\n",
    "        if letra == gabarito[i]:\n",
    "            nota += 1\n",
    "    if nota > maior:\n",
    "        maior = nota\n",
    "    if nota < menor:\n",
    "        menor = nota\n",
    "        \n",
    "    total += nota\n",
    "        \n",
    "    continuar = input('Outro aluno vai utilizar o sistema? S para sim, qualquer outra coisa para não: ')\n",
    "    \n",
    "print('Maior nota:', maior)\n",
    "print('Menor nota:', menor)\n",
    "print('Total de Alunos que utilizaram o sistema:', contador)\n",
    "print('A Média das Notas da Turma:', total/contador)\n",
    "print('Gabarito da Prova:')\n",
    "for i in range(10):\n",
    "    print(i, '-', gabarito[i])\n",
    "\n"
   ]
  },
  {
   "cell_type": "markdown",
   "id": "1725352d",
   "metadata": {},
   "source": [
    "#### 46. Em uma competição de salto em distância cada atleta tem direito a cinco saltos. No final da série de saltos de cada atleta, o melhor e o pior resultados são eliminados. O seu resultado fica sendo a média dos três valores restantes. Você deve fazer um programa que receba o nome e as cinco distâncias alcançadas pelo atleta em seus saltos e depois informe a média dos saltos conforme a descrição acima informada (retirar o melhor e o pior salto e depois calcular a média). Faça uso de uma lista para armazenar os saltos. Os saltos são informados na ordem da execução, portanto não são ordenados. O programa deve ser encerrado quando não for informado o nome do atleta. A saída do programa deve ser conforme o exemplo abaixo:\n",
    "<pre>\n",
    "Atleta: Rodrigo Curvêllo\n",
    "\n",
    "Primeiro Salto: 6.5 m\n",
    "Segundo Salto: 6.1 m\n",
    "Terceiro Salto: 6.2 m\n",
    "Quarto Salto: 5.4 m\n",
    "Quinto Salto: 5.3 m\n",
    "\n",
    "Melhor salto:  6.5 m\n",
    "Pior salto: 5.3 m\n",
    "Média dos demais saltos: 5.9 m\n",
    "\n",
    "Resultado final:\n",
    "Rodrigo Curvêllo: 5.9 m\n",
    "</pre>"
   ]
  },
  {
   "cell_type": "code",
   "execution_count": null,
   "id": "238d82f1",
   "metadata": {},
   "outputs": [],
   "source": [
    "atleta = input('Atleta: ')\n",
    "resultados = []\n",
    "while atleta:\n",
    "\n",
    "    saltos = []\n",
    "\n",
    "    for i in range(5):\n",
    "        distancia = float(input(f'{i+1}º Salto: '))\n",
    "        saltos.append(distancia)\n",
    "    maior = max(saltos)\n",
    "    menor = min(saltos)\n",
    "    saltos.remove(maior)\n",
    "    saltos.remove(menor)\n",
    "    media = sum(saltos)/len(saltos)\n",
    "    print('Melhor salto:', maior, 'm')\n",
    "    print('Pior salto:', menor, 'm')\n",
    "    print('Média:', media, 'm')\n",
    "    resultados.append((atleta, media))\n",
    "    atleta = input('Atleta: ')\n",
    "    \n",
    "print('Resultado final:')\n",
    "for atleta, media in resultados:\n",
    "    print(f'{atleta}: {media} m')"
   ]
  },
  {
   "cell_type": "markdown",
   "id": "e5ff920f",
   "metadata": {},
   "source": [
    "#### 47. Em uma competição de ginástica, cada atleta recebe votos de sete jurados. A melhor e a pior nota são eliminadas. A sua nota fica sendo a média dos votos restantes. Você deve fazer um programa que receba o nome do ginasta e as notas dos sete jurados alcançadas pelo atleta em sua apresentação e depois informe a sua média, conforme a descrição acima informada (retirar o melhor e o pior salto e depois calcular a média com as notas restantes). As notas não são informados ordenadas. Um exemplo de saída do programa deve ser conforme o exemplo abaixo:\n",
    "<pre>\n",
    "Atleta: Aparecido Parente\n",
    "Nota: 9.9\n",
    "Nota: 7.5\n",
    "Nota: 9.5\n",
    "Nota: 8.5\n",
    "Nota: 9.0\n",
    "Nota: 8.5\n",
    "Nota: 9.7\n",
    "\n",
    "Resultado final:\n",
    "Atleta: Aparecido Parente\n",
    "Melhor nota: 9.9\n",
    "Pior nota: 7.5\n",
    "Média: 9,04\n",
    "</pre>"
   ]
  },
  {
   "cell_type": "code",
   "execution_count": null,
   "id": "3f2f7885",
   "metadata": {},
   "outputs": [],
   "source": [
    "atleta = input('Atleta: ')\n",
    "resultados = []\n",
    "while atleta:\n",
    "\n",
    "    notas = []\n",
    "\n",
    "    for i in range(7):\n",
    "        nota = float(input(f'{i+1}º Nota: '))\n",
    "        notas.append(nota)\n",
    "    maior = max(notas)\n",
    "    menor = min(notas)\n",
    "    notas.remove(maior)\n",
    "    notas.remove(menor)\n",
    "    media = sum(notas)/len(notas)\n",
    "    print('Atleta:', atleta)\n",
    "    print('Melhor nota:', maior)\n",
    "    print('Pior nota:', menor)\n",
    "    print('Média:', media, 'm')\n",
    "    resultados.append((atleta, media, maior, menor))\n",
    "    atleta = input('Atleta: ')\n",
    "    \n",
    "print('Resultado final:')\n",
    "for atleta, media, maior, menor in resultados:\n",
    "    print(f'Atleta: {atleta}')\n",
    "    print(f'Melhor nota: {maior}')\n",
    "    print(f'Pior nota: {menor}')\n",
    "    print(f'Média: {media}')\n"
   ]
  },
  {
   "cell_type": "markdown",
   "id": "45ed6b7e",
   "metadata": {},
   "source": [
    "#### 48. Faça um programa que peça um numero inteiro positivo e em seguida mostre este numero invertido.\n",
    "<pre>\n",
    "Exemplo:\n",
    "  12376489\n",
    "  => 98467321\n",
    "</pre>"
   ]
  },
  {
   "cell_type": "code",
   "execution_count": null,
   "id": "1f724d4b",
   "metadata": {},
   "outputs": [],
   "source": [
    "n = int(input('Informe o número: '))\n",
    "\n",
    "invertido = 0\n",
    "\n",
    "while n > 0:\n",
    "    invertido *= 10\n",
    "    invertido += n % 10\n",
    "    n //= 10\n",
    "print(invertido)    "
   ]
  },
  {
   "cell_type": "markdown",
   "id": "02e32b0c",
   "metadata": {},
   "source": [
    "#### 49. Faça um programa que mostre os n termos da Série a seguir:\n",
    "<pre>\n",
    "  S = 1/1 + 2/3 + 3/5 + 4/7 + 5/9 + ... + n/m. \n",
    "Imprima no final a soma da série.\n",
    "</pre>"
   ]
  },
  {
   "cell_type": "code",
   "execution_count": null,
   "id": "78f2f8c1",
   "metadata": {},
   "outputs": [],
   "source": [
    "n = int(input('Informe quantos termos terá a série: '))\n",
    "i = 1\n",
    "j = 1\n",
    "soma = 0\n",
    "print('S = ', end='')\n",
    "while i != n + 1:\n",
    "    if i == n:\n",
    "        print(f'{i}/{j}.')\n",
    "    else:\n",
    "        print(f'{i}/{j} + ', end='')\n",
    "        \n",
    "    soma += i/j\n",
    "    i +=1\n",
    "    j += 2\n",
    "\n",
    "print('Soma:', soma)"
   ]
  },
  {
   "cell_type": "markdown",
   "id": "afc85e21",
   "metadata": {},
   "source": [
    "#### 50. Sendo H= 1 + 1/2 + 1/3 + 1/4 + ... + 1/N, Faça um programa que calcule o valor de H com N termos."
   ]
  },
  {
   "cell_type": "code",
   "execution_count": null,
   "id": "9c6365df",
   "metadata": {},
   "outputs": [],
   "source": [
    "n = int(input('Informe quantos termos terá a série: '))\n",
    "soma = 0\n",
    "for i in range(1, n+1):\n",
    "    soma += 1/i\n",
    "print('Soma:', soma)"
   ]
  },
  {
   "cell_type": "markdown",
   "id": "c1cd2849",
   "metadata": {},
   "source": [
    "#### 51. Faça um programa que mostre os n termos da Série a seguir:\n",
    "<pre>\n",
    "  S = 1/1 + 2/3 + 3/5 + 4/7 + 5/9 + ... + n/m. \n",
    "Imprima no final a soma da série.\n",
    "</pre>"
   ]
  },
  {
   "cell_type": "code",
   "execution_count": null,
   "id": "9261c4bf",
   "metadata": {},
   "outputs": [],
   "source": [
    "n = int(input('Informe quantos termos terá a série: '))\n",
    "i = 1\n",
    "j = 1\n",
    "soma = 0\n",
    "print('S = ', end='')\n",
    "while i != n + 1:\n",
    "    if i == n:\n",
    "        print(f'{i}/{j}.')\n",
    "    else:\n",
    "        print(f'{i}/{j} + ', end='')\n",
    "        \n",
    "    soma += i/j\n",
    "    i +=1\n",
    "    j += 2\n",
    "\n",
    "print('Soma:', soma)"
   ]
  }
 ],
 "metadata": {
  "kernelspec": {
   "display_name": "Python 3 (ipykernel)",
   "language": "python",
   "name": "python3"
  },
  "language_info": {
   "codemirror_mode": {
    "name": "ipython",
    "version": 3
   },
   "file_extension": ".py",
   "mimetype": "text/x-python",
   "name": "python",
   "nbconvert_exporter": "python",
   "pygments_lexer": "ipython3",
   "version": "3.9.12"
  }
 },
 "nbformat": 4,
 "nbformat_minor": 5
}
