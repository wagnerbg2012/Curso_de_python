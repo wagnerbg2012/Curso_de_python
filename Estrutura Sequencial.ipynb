{
 "cells": [
  {
   "cell_type": "markdown",
   "id": "bb0f9514",
   "metadata": {},
   "source": [
    "# Lista de Estrutura Sequencial"
   ]
  },
  {
   "cell_type": "markdown",
   "id": "4e7a8c30",
   "metadata": {},
   "source": [
    "#### 1. Faça um Programa que mostre a mensagem \"Alo mundo\" na tela."
   ]
  },
  {
   "cell_type": "code",
   "execution_count": 1,
   "id": "883bfe85",
   "metadata": {},
   "outputs": [
    {
     "name": "stdout",
     "output_type": "stream",
     "text": [
      "Alô mundo!\n",
      "Alo mundo\n"
     ]
    }
   ],
   "source": [
    "print('Alô mundo!')\n",
    "print('Alo mundo')"
   ]
  },
  {
   "cell_type": "markdown",
   "id": "71d6d6a2",
   "metadata": {},
   "source": [
    "#### 2. Faça um Programa que peça um número e então mostre a mensagem O número informado foi [número]."
   ]
  },
  {
   "cell_type": "code",
   "execution_count": 2,
   "id": "30cfffcf",
   "metadata": {},
   "outputs": [
    {
     "name": "stdout",
     "output_type": "stream",
     "text": [
      "O número informado foi 15.\n"
     ]
    }
   ],
   "source": [
    "numero = input('Informe um número: ')\n",
    "print(f'O número informado foi {numero}.')"
   ]
  },
  {
   "cell_type": "markdown",
   "id": "c5e43160",
   "metadata": {},
   "source": [
    "#### 3. Faça um Programa que peça dois números e imprima a soma."
   ]
  },
  {
   "cell_type": "code",
   "execution_count": null,
   "id": "b0e79590",
   "metadata": {},
   "outputs": [],
   "source": [
    "x = float(input('Informe o primeiro número: '))\n",
    "y = float(input('Informe o segundo número: '))\n",
    "\n",
    "print('A soma dos dois números é:', x + y)"
   ]
  },
  {
   "cell_type": "markdown",
   "id": "17826987",
   "metadata": {},
   "source": [
    "#### 4. Faça um Programa que peça as 4 notas bimestrais e mostre a média."
   ]
  },
  {
   "cell_type": "code",
   "execution_count": null,
   "id": "23b66762",
   "metadata": {},
   "outputs": [],
   "source": [
    "nota1 = float(input('Informe a 1ª nota: '))\n",
    "nota2 = float(input('Informe a 1ª nota: '))\n",
    "nota3 = float(input('Informe a 1ª nota: '))\n",
    "nota4 = float(input('Informe a 1ª nota: '))\n",
    "\n",
    "media = (nota1 + nota2 + nota3 + nota4) / 4\n",
    "\n",
    "print('A média é:', media)"
   ]
  },
  {
   "cell_type": "markdown",
   "id": "62d461c5",
   "metadata": {},
   "source": [
    "#### 5. Faça um Programa que converta metros para centímetros."
   ]
  },
  {
   "cell_type": "code",
   "execution_count": null,
   "id": "d642f1ba",
   "metadata": {},
   "outputs": [],
   "source": [
    "comprimento_m = float(input('Informe um comprimento em metros: '))\n",
    "comprimento_cm = comprimento_m * 100\n",
    "print('Este comprimento em centímetros é:', comprimento_cm, 'cm')"
   ]
  },
  {
   "cell_type": "markdown",
   "id": "2dae25f2",
   "metadata": {},
   "source": [
    "#### 6. Faça um Programa que peça o raio de um círculo, calcule e mostre sua área."
   ]
  },
  {
   "cell_type": "code",
   "execution_count": null,
   "id": "fec427d6",
   "metadata": {},
   "outputs": [],
   "source": [
    "pi = 3.14\n",
    "raio = float(input('Informe o raio do círculo em metros: '))\n",
    "area = pi * (raio ** 2)\n",
    "\n",
    "print('A área do círculo é:', area, 'm²')"
   ]
  },
  {
   "cell_type": "markdown",
   "id": "f1311697",
   "metadata": {},
   "source": [
    "#### 7. Faça um Programa que calcule a área de um quadrado, em seguida mostre o dobro desta área para o usuário."
   ]
  },
  {
   "cell_type": "code",
   "execution_count": null,
   "id": "612ea24b",
   "metadata": {},
   "outputs": [],
   "source": [
    "lado = float(input('Informe o comprimento do lado do quadrado em metros: '))\n",
    "area = lado * lado\n",
    "print('A área do quadrado é:', area, 'm²')\n",
    "print('O dobro da área do quadrado é:', 2 * area, 'm²')"
   ]
  },
  {
   "cell_type": "markdown",
   "id": "2a285929",
   "metadata": {},
   "source": [
    "#### 8. Faça um Programa que pergunte quanto você ganha por hora e o número de horas trabalhadas no mês. Calcule e mostre o total do seu salário no referido mês."
   ]
  },
  {
   "cell_type": "code",
   "execution_count": null,
   "id": "359e2232",
   "metadata": {},
   "outputs": [],
   "source": [
    "valor_hora = float(input('Informe o valor ganho por hora em R$/h: '))\n",
    "horas_trabalhadas = float(input('Informe a quantidade de horas trabalhadas no mês: '))\n",
    "total = valor_hora * horas_trabalhadas\n",
    "print('O salário do mês foi: R$', total)"
   ]
  },
  {
   "cell_type": "markdown",
   "id": "7e2d4615",
   "metadata": {},
   "source": [
    "#### 9. Faça um Programa que peça a temperatura em graus Fahrenheit, transforme e mostre a temperatura em graus Celsius.\n",
    "$C = \\frac{5}{9}(F-32)$"
   ]
  },
  {
   "cell_type": "code",
   "execution_count": null,
   "id": "82daf9fd",
   "metadata": {},
   "outputs": [],
   "source": [
    "temperatura_f = float(input('Informe a temperatura em Fahrenheit: '))\n",
    "temperatura_c = (5/9) * (temperatura_f - 32)\n",
    "print('A temperatura é:', temperatura_c, '°C')"
   ]
  },
  {
   "cell_type": "markdown",
   "id": "20708b1c",
   "metadata": {},
   "source": [
    "#### 10. Faça um Programa que peça a temperatura em graus Celsius, transforme e mostre em graus Fahrenheit.\n",
    "$F = \\frac{9}{5}C + 32$"
   ]
  },
  {
   "cell_type": "code",
   "execution_count": null,
   "id": "c73cfb38",
   "metadata": {},
   "outputs": [],
   "source": [
    "temperatura_c = float(input('Informe a temperatura em Celsius: '))\n",
    "temperatura_f = 9/5 * temperatura_c + 32\n",
    "print('A temperatura é:', temperatura_f, '°F')"
   ]
  },
  {
   "cell_type": "markdown",
   "id": "839e12d3",
   "metadata": {},
   "source": [
    "#### 11. Faça um Programa que peça 2 números inteiros e um número real."
   ]
  },
  {
   "cell_type": "code",
   "execution_count": null,
   "id": "f1b04ebd",
   "metadata": {},
   "outputs": [],
   "source": [
    "int1 = int(input('Informe o primeiro 1° número inteiro: '))\n",
    "int2 = int(input('Informe o primeiro 2° número inteiro: '))\n",
    "real = float(input('Informe o número real: '))"
   ]
  },
  {
   "cell_type": "markdown",
   "id": "19de1a37",
   "metadata": {},
   "source": [
    "##### a. Calcule e mostre o produto do dobro do primeiro com metade do segundo."
   ]
  },
  {
   "cell_type": "code",
   "execution_count": null,
   "id": "4480af00",
   "metadata": {},
   "outputs": [],
   "source": [
    "dobro_int1 = 2 * int1\n",
    "metade_int2 = int2 / 2\n",
    "print('O resultado é:', dobro_int1 * metade_int2)"
   ]
  },
  {
   "cell_type": "markdown",
   "id": "04d2f174",
   "metadata": {},
   "source": [
    "##### b. Calcule e mostre a soma do triplo do primeiro com o terceiro."
   ]
  },
  {
   "cell_type": "code",
   "execution_count": null,
   "id": "120d6e9e",
   "metadata": {},
   "outputs": [],
   "source": [
    "triplo_int1 = 3 * int1\n",
    "print('O resultado é:', triplo_int1 + real)"
   ]
  },
  {
   "cell_type": "markdown",
   "id": "6e59b260",
   "metadata": {},
   "source": [
    "##### c. Calcule e mostre o terceiro elevado ao cubo."
   ]
  },
  {
   "cell_type": "code",
   "execution_count": null,
   "id": "db0128a5",
   "metadata": {
    "scrolled": true
   },
   "outputs": [],
   "source": [
    "real_ao_cubo = real ** 3\n",
    "print('O resultado é:', real_ao_cubo)"
   ]
  },
  {
   "cell_type": "markdown",
   "id": "b263a9dc",
   "metadata": {},
   "source": [
    "#### 12. Tendo como dados de entrada a altura de uma pessoa, construa um algoritmo que calcule seu peso ideal, usando a seguinte fórmula:\n",
    "$P = 72,7h - 58$"
   ]
  },
  {
   "cell_type": "code",
   "execution_count": null,
   "id": "9a9b8dca",
   "metadata": {},
   "outputs": [],
   "source": [
    "altura = float(input('Informe a altura em metros: '))\n",
    "peso_ideal = 72.7 * altura - 58\n",
    "print('O peso ideal é:', peso_ideal, 'kg')"
   ]
  },
  {
   "cell_type": "markdown",
   "id": "13bb40d7",
   "metadata": {},
   "source": [
    "#### 13. Tendo como dado de entrada a altura (h) de uma pessoa, construa um algoritmo que calcule seu peso ideal, utilizando as seguintes fórmulas:\n",
    "##### a. Para homens: $P = 72,7h - 58$\n",
    "##### b. Para mulheres: $P = 62,1h - 44,7$"
   ]
  },
  {
   "cell_type": "code",
   "execution_count": null,
   "id": "bf82dc8c",
   "metadata": {},
   "outputs": [],
   "source": [
    "altura = float(input('Informe a altura em metros: '))\n",
    "peso_ideal_homens = 72.7 * altura - 58\n",
    "peso_ideal_mulheres = 62.1 * altura - 44.7\n",
    "\n",
    "print('O peso ideal com essa altura para homens é:', peso_ideal_homens, 'kg')\n",
    "print('O peso ideal com essa altura para mulheres é:', peso_ideal_mulheres, 'kg')"
   ]
  },
  {
   "cell_type": "markdown",
   "id": "24f5f13f",
   "metadata": {},
   "source": [
    "#### 14. João Papo-de-Pescador, homem de bem, comprou um microcomputador para controlar o rendimento diário de seu trabalho. Toda vez que ele traz um peso de peixes maior que o estabelecido pelo regulamento de pesca do estado de São Paulo (50 quilos) deve pagar uma multa de R$ 4,00 por quilo excedente. João precisa que você faça um programa que leia a variável peso (peso de peixes) e calcule o excesso. Gravar na variável excesso a quantidade de quilos além do limite e na variável multa o valor da multa que João deverá pagar. Imprima os dados do programa com as mensagens adequadas."
   ]
  },
  {
   "cell_type": "code",
   "execution_count": null,
   "id": "b3a79813",
   "metadata": {},
   "outputs": [],
   "source": [
    "peso = float(input('Informe o peso dos peixes em kg: '))\n",
    "\n",
    "if peso > 50:\n",
    "    excesso = peso - 50\n",
    "    multa = excesso * 4\n",
    "    print(f'O excesso foi de {excesso} kg, portanto a multa será de R$ {multa}.')\n",
    "else:\n",
    "    print(f'O peso de {peso} kg está dentro dos limites, não há multa.')"
   ]
  },
  {
   "cell_type": "markdown",
   "id": "f208ef89",
   "metadata": {},
   "source": [
    "#### 15. Faça um Programa que pergunte quanto você ganha por hora e o número de horas trabalhadas no mês."
   ]
  },
  {
   "cell_type": "code",
   "execution_count": null,
   "id": "2d5b23e0",
   "metadata": {},
   "outputs": [],
   "source": [
    "remuneracao = float(input('Informe a remuneração em R$ por hora: '))\n",
    "horas_trabalhadas = int(input('Informe a quantidade de horas trabalhadas: '))"
   ]
  },
  {
   "cell_type": "markdown",
   "id": "607dee3c",
   "metadata": {},
   "source": [
    "#####  Calcule o salário bruto"
   ]
  },
  {
   "cell_type": "code",
   "execution_count": null,
   "id": "7f80ccbb",
   "metadata": {},
   "outputs": [],
   "source": [
    "salario_bruto = remuneracao * horas_trabalhadas\n",
    "print(f'O salário bruto é R$ {salario_bruto}')"
   ]
  },
  {
   "cell_type": "markdown",
   "id": "2ed93cb0",
   "metadata": {},
   "source": [
    "##### Calcule o desconto do IR (11%)"
   ]
  },
  {
   "cell_type": "code",
   "execution_count": null,
   "id": "3363e22f",
   "metadata": {},
   "outputs": [],
   "source": [
    "ir = 0.11 * salario_bruto\n",
    "print(f'O desconto do IR é R$ {ir}')"
   ]
  },
  {
   "cell_type": "markdown",
   "id": "0994b2c0",
   "metadata": {},
   "source": [
    "##### Calcule o desconto do INSS (8%)"
   ]
  },
  {
   "cell_type": "code",
   "execution_count": null,
   "id": "748c6088",
   "metadata": {},
   "outputs": [],
   "source": [
    "inss = 0.08 * salario_bruto\n",
    "print(f'O desconto do INSS é R$ {inss}')"
   ]
  },
  {
   "cell_type": "markdown",
   "id": "06e8dae4",
   "metadata": {},
   "source": [
    "##### Calcule o desconto do sindicato (5%)"
   ]
  },
  {
   "cell_type": "code",
   "execution_count": null,
   "id": "21b95b15",
   "metadata": {
    "scrolled": true
   },
   "outputs": [],
   "source": [
    "sindicato = 0.05 * salario_bruto\n",
    "print(f'O desconto do sindicato é R$ {sindicato}')"
   ]
  },
  {
   "cell_type": "markdown",
   "id": "bb14ce36",
   "metadata": {},
   "source": [
    "##### Calcule o salário líquido (salário bruto - descontos)"
   ]
  },
  {
   "cell_type": "code",
   "execution_count": null,
   "id": "56317086",
   "metadata": {},
   "outputs": [],
   "source": [
    "salario_liquido = salario_bruto - ir - inss - sindicato\n",
    "print(f'O salário líquido é R$ {salario_liquido}')"
   ]
  },
  {
   "cell_type": "markdown",
   "id": "cfbfcc87",
   "metadata": {},
   "source": [
    "#### 16. Faça um programa para uma loja de tintas. O programa deverá pedir o tamanho em metros quadrados da área a ser pintada. Considere que a cobertura da tinta é de 1 litro para cada 3 metros quadrados e que a tinta é vendida em latas de 18 litros, que custam R\\$ 80,00. Informe ao usuário a quantidades de latas de tinta a serem compradas e o preço total."
   ]
  },
  {
   "cell_type": "code",
   "execution_count": null,
   "id": "fb6a083b",
   "metadata": {},
   "outputs": [],
   "source": [
    "import math\n",
    "area = float(input('Informe o tamanho da área a ser pintada em m²: '))\n",
    "# a quantidade de litros é a área dividido por 3, use regra de três para chegar a essa conclusão\n",
    "litros_tinta = area / 3 \n",
    "# a quantidade de latas é a quantidade de litros dividido por 18, use regra de três para chegar a essa conclusão\n",
    "# arredondamos para cima com a função ceil porque não é possível comprar latas fracionadas\n",
    "latas = math.ceil(litros_tinta / 18)\n",
    "preco = latas * 80\n",
    "print(f'Serão necessárias {latas} latas, custando R$ {preco} no total')"
   ]
  },
  {
   "cell_type": "markdown",
   "id": "08486fb2",
   "metadata": {},
   "source": [
    "#### 17. Faça um Programa para uma loja de tintas. O programa deverá pedir o tamanho em metros quadrados da área a ser pintada. Considere que a cobertura da tinta é de 1 litro para cada 6 metros quadrados e que a tinta é vendida em latas de 18 litros, que custam R\\\\$ 80,00 ou em galões de 3,6 litros, que custam R\\\\$ 25,00."
   ]
  },
  {
   "cell_type": "code",
   "execution_count": null,
   "id": "7b0f841a",
   "metadata": {},
   "outputs": [],
   "source": [
    "area = float(input('Informe o tamanho da área a ser pintada em m²: '))\n",
    "litros_tinta = area / 6"
   ]
  },
  {
   "cell_type": "markdown",
   "id": "cd46e559",
   "metadata": {},
   "source": [
    "##### Informe ao usuário as quantidades de tinta a serem compradas e os respectivos preços em 3 situações.\n",
    "##### Comprar apenas latas de 18 litros:"
   ]
  },
  {
   "cell_type": "code",
   "execution_count": null,
   "id": "ec7ac936",
   "metadata": {},
   "outputs": [],
   "source": [
    "latas = math.ceil(litros_tinta / 18)\n",
    "preco = latas * 80\n",
    "print(f'Serão necessárias {latas} latas, custando R$ {preco} no total')"
   ]
  },
  {
   "cell_type": "markdown",
   "id": "21d8d18a",
   "metadata": {},
   "source": [
    "##### Comprar apenas galões de 3,6 litros:"
   ]
  },
  {
   "cell_type": "code",
   "execution_count": null,
   "id": "e63471e9",
   "metadata": {},
   "outputs": [],
   "source": [
    "galoes = math.ceil(litros_tinta / 3.6)\n",
    "preco = galoes * 25\n",
    "print(f'Serão necessários {galoes} galões, custando R$ {preco} no total')"
   ]
  },
  {
   "cell_type": "markdown",
   "id": "1b11a9c8",
   "metadata": {},
   "source": [
    "##### Misturar latas e galões, de forma que o desperdício de tinta seja menor. Acrescente 10% de folga e sempre arredonde os valores para cima, isto é, considere latas cheias:"
   ]
  },
  {
   "cell_type": "markdown",
   "id": "9c9aed42",
   "metadata": {},
   "source": [
    "O custo da lata é 80/18 = 4,44 R\\\\$/L\n",
    "\n",
    "O custo do galão é 25/3,6 = 6,94 R\\\\$/L\n",
    "\n",
    "A lata é mais econômica, então todas as latas inteiras que pudermos usar devemos comprar em latas. Se ficar faltando alguma coisa para completar devemos avaliar se é melhor comprar latas ou galões. Exemplo:\n",
    "\n",
    "Se queremos comprar 90 litros. 5 latas dão exatamente 90 litros. Então devemos comprar tudo em latas.\n",
    "\n",
    "Se queremos comprar 95 litros. 5 latas dão exatamente 90 litros. Então devemos comprar pelo menos 5 latas e avaliar o que falta, se estes últimos 5 litros valem mais apenas em latas ou galões.\n",
    "\n",
    "Para os 5 litros faltantes precisamos de 2 galões que custam 50 reais no total. Ou de uma lata que custa 80 reais no total. Portanto, neste caso vale mais a pena usar 2 galões.\n",
    "\n",
    "Se queremos comprar 107 litros. 5 latas dão exatamente 90 litros. Então devemos comprar pelo menos 5 latas e avaliar o que falta, se estes últimos 5 litros valem mais apenas em latas ou galões.\n",
    "\n",
    "Para os 17 litros faltantes precisamos de 5 galões que custam 125 reais no total. Ou de uma lata que custa 80 reais no total. Portanto, neste caso vale mais a pena usar uma lata.\n",
    "\n",
    "3 galões custam 75 reais, 4 galões custam 100 reais. Então, se for possível completar com até 3 galões escolhe-se galões. Qualquer quantidade maior que 3 galões, usa-se latas.\n",
    "\n",
    "Podemos ir ao exercício:"
   ]
  },
  {
   "cell_type": "code",
   "execution_count": null,
   "id": "6868f565",
   "metadata": {},
   "outputs": [],
   "source": [
    "# acrescentamos a folga de 10%\n",
    "litros_tinta *= 1.1\n",
    "\n",
    "# a função floor arredonda o valor para baixo, aqui medimos quantas latas inteiras são necessárias\n",
    "latas = math.floor(litros_tinta / 18)\n",
    "\n",
    "# aqui vemos a tinta que faltou que não cabe em uma lata completa\n",
    "tinta_faltante = litros_tinta - 18 * latas\n",
    "\n",
    "# tinta faltante em galões\n",
    "faltante_galoes = math.ceil(tinta_faltante / 3.6)\n",
    "\n",
    "\n",
    "if faltante_galoes <= 3:\n",
    "    galoes = faltante_galoes\n",
    "else:\n",
    "    galoes = 0\n",
    "    latas += 1\n",
    "\n",
    "preco = latas * 80 + galoes * 25\n",
    "print(f'São necessários {latas} latas e {galoes} galões. Custando R$ {preco} no total')"
   ]
  },
  {
   "cell_type": "markdown",
   "id": "d6503c92",
   "metadata": {},
   "source": [
    "#### 18. Faça um programa que peça o tamanho de um arquivo para download (em MB) e a velocidade de um link de Internet (em Mbps), calcule e informe o tempo aproximado de download do arquivo usando este link (em minutos).\n",
    "\n",
    "Detalhe: MB significa megabyte, Mb (com b minúsculo) significa megabit. Um megabit é um oitavo de um megabyte. "
   ]
  },
  {
   "cell_type": "code",
   "execution_count": null,
   "id": "0563aa62",
   "metadata": {},
   "outputs": [],
   "source": [
    "tamanho = float(input('Informe o tamanho do arquivo em MB: '))\n",
    "velocidade = float(input('Informe a velocidade da conexão em Mbps: '))\n",
    "\n",
    "# aqui trasnformamos megabytes em megabits para que tamanho e velocidade estejam na mesma unidade\n",
    "tamanho *= 8\n",
    "\n",
    "tempo = tamanho / velocidade\n",
    "# transformando em minutos\n",
    "tempo /= 60\n",
    "print(f'O tempo de download é de {tempo} minutos')"
   ]
  }
 ],
 "metadata": {
  "kernelspec": {
   "display_name": "Python 3.10.5 64-bit",
   "language": "python",
   "name": "python3"
  },
  "language_info": {
   "codemirror_mode": {
    "name": "ipython",
    "version": 3
   },
   "file_extension": ".py",
   "mimetype": "text/x-python",
   "name": "python",
   "nbconvert_exporter": "python",
   "pygments_lexer": "ipython3",
   "version": "3.10.5"
  },
  "vscode": {
   "interpreter": {
    "hash": "fef9bd6e6fe995c436516425c401e1a8e41d09919c6401a542345c8cc6e0e8ab"
   }
  }
 },
 "nbformat": 4,
 "nbformat_minor": 5
}
